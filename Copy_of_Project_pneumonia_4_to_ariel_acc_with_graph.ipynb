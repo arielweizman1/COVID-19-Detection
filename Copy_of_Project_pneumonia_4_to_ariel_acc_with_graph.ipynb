{
  "nbformat": 4,
  "nbformat_minor": 0,
  "metadata": {
    "accelerator": "GPU",
    "colab": {
      "name": "Copy of Project_pneumonia_4_to_ariel_acc.ipynb",
      "provenance": [],
      "collapsed_sections": [],
      "toc_visible": true
    },
    "kernelspec": {
      "display_name": "Python 3",
      "language": "python",
      "name": "python3"
    },
    "language_info": {
      "codemirror_mode": {
        "name": "ipython",
        "version": 3
      },
      "file_extension": ".py",
      "mimetype": "text/x-python",
      "name": "python",
      "nbconvert_exporter": "python",
      "pygments_lexer": "ipython3",
      "version": "3.7.8"
    }
  },
  "cells": [
    {
      "cell_type": "markdown",
      "metadata": {
        "id": "5hGYUvQq54Nj"
      },
      "source": [
        ""
      ]
    },
    {
      "cell_type": "markdown",
      "metadata": {
        "id": "51s8Vbn2jua7"
      },
      "source": [
        "# drive.mount()"
      ]
    },
    {
      "cell_type": "code",
      "metadata": {
        "colab": {
          "base_uri": "https://localhost:8080/"
        },
        "id": "KxCKfek-gNYD",
        "outputId": "a885ce6b-f3d2-4b82-87ff-514fa2a498f8"
      },
      "source": [
        " from google.colab import drive\n",
        "drive.mount('/content/drive')"
      ],
      "execution_count": 37,
      "outputs": [
        {
          "output_type": "stream",
          "text": [
            "Drive already mounted at /content/drive; to attempt to forcibly remount, call drive.mount(\"/content/drive\", force_remount=True).\n"
          ],
          "name": "stdout"
        }
      ]
    },
    {
      "cell_type": "markdown",
      "metadata": {
        "id": "iuOxmwmmjue-"
      },
      "source": [
        "# Imports"
      ]
    },
    {
      "cell_type": "code",
      "metadata": {
        "colab": {
          "base_uri": "https://localhost:8080/"
        },
        "id": "suVVB80CuHfa",
        "outputId": "f0c8f23e-648e-4fab-bc7e-1d7464e109c0"
      },
      "source": [
        "!pip install imutils"
      ],
      "execution_count": 38,
      "outputs": [
        {
          "output_type": "stream",
          "text": [
            "Requirement already satisfied: imutils in /usr/local/lib/python3.7/dist-packages (0.5.4)\n"
          ],
          "name": "stdout"
        }
      ]
    },
    {
      "cell_type": "code",
      "metadata": {
        "colab": {
          "base_uri": "https://localhost:8080/"
        },
        "id": "REuV7M-1kvV7",
        "outputId": "77c2c676-ceac-4179-acca-37a78efcf6f4"
      },
      "source": [
        "import torch\n",
        "import torch.nn as nn\n",
        "import torch.nn.functional as F\n",
        "import torchvision\n",
        "import torchvision.transforms as tt\n",
        "import torchvision.models as models\n",
        "from torchvision.datasets import ImageFolder\n",
        "from torchvision.utils import make_grid\n",
        "from torch.utils.data import random_split, DataLoader\n",
        "from torch.optim.lr_scheduler import ReduceLROnPlateau\n",
        "\n",
        "from sklearn.preprocessing import LabelBinarizer\n",
        "from sklearn.model_selection import train_test_split\n",
        "from sklearn.metrics import classification_report\n",
        "from sklearn.metrics import confusion_matrix\n",
        "from mlxtend.plotting import plot_confusion_matrix\n",
        "\n",
        "from imutils import paths\n",
        "import matplotlib.pyplot as plt\n",
        "from matplotlib.image import imread\n",
        "import seaborn as sns\n",
        "import pandas as pd\n",
        "import numpy as np\n",
        "import copy\n",
        "import random\n",
        "import shutil\n",
        "import cv2\n",
        "import os\n",
        "import time\n",
        "from datetime import datetime\n",
        "\n",
        "# efficientNet:\n",
        "!pip install efficientnet_pytorch\n",
        "from efficientnet_pytorch import EfficientNet\n",
        "\n",
        "# set random seed so we get the same sampling every time for reproducibility\n",
        "random_seed = 2020\n",
        "torch.manual_seed(random_seed);\n"
      ],
      "execution_count": 39,
      "outputs": [
        {
          "output_type": "stream",
          "text": [
            "Requirement already satisfied: efficientnet_pytorch in /usr/local/lib/python3.7/dist-packages (0.7.1)\n",
            "Requirement already satisfied: torch in /usr/local/lib/python3.7/dist-packages (from efficientnet_pytorch) (1.9.0+cu102)\n",
            "Requirement already satisfied: typing-extensions in /usr/local/lib/python3.7/dist-packages (from torch->efficientnet_pytorch) (3.7.4.3)\n"
          ],
          "name": "stdout"
        }
      ]
    },
    {
      "cell_type": "markdown",
      "metadata": {
        "id": "BZTHmlJJl9gP"
      },
      "source": [
        "# Data Preparations - Utils"
      ]
    },
    {
      "cell_type": "code",
      "metadata": {
        "id": "bWW3ZNz8Z0Kb"
      },
      "source": [
        "# Function for plotting samples\n",
        "def plot_samples(f_samples):  \n",
        "    \"\"\"\n",
        "    plot out multiple samples.\n",
        "    Args:   \n",
        "        f_samples - samples created with random.sample() from data diretory\n",
        "    \"\"\"    \n",
        "    fig, ax = plt.subplots(nrows=2, ncols=5, figsize=(30,8))\n",
        "    for i in range(len(f_samples)):\n",
        "        image = cv2.cvtColor(imread(f_samples[i]), cv2.COLOR_BGR2RGB)\n",
        "        ax[i//5][i%5].imshow(image)\n",
        "        if i<5:\n",
        "            ax[i//5][i%5].set_title(\"Normal\", fontsize=20)\n",
        "        else:\n",
        "            ax[i//5][i%5].set_title(\"Pneumonia\", fontsize=20)\n",
        "        ax[i//5][i%5].axis('off')"
      ],
      "execution_count": 40,
      "outputs": []
    },
    {
      "cell_type": "code",
      "metadata": {
        "id": "X-7coMm8ZhXW"
      },
      "source": [
        "# function for plotting out some images with their labels. \n",
        "%matplotlib inline \n",
        "def show_example(f_img, f_label, f_dataset):\n",
        "    \"\"\" \n",
        "    plot out some images with their labels. \n",
        "    Args:  \n",
        "        f_img, f_label - some example from dataset\n",
        "        f_dataset - dataset created with ImageFolder\n",
        "    \"\"\"\n",
        "\n",
        "    print('Label: ', f_dataset.classes[f_label], \"(\"+str(f_label)+\")\")\n",
        "    plt.imshow(f_img.permute(1, 2, 0))"
      ],
      "execution_count": 41,
      "outputs": []
    },
    {
      "cell_type": "code",
      "metadata": {
        "id": "H3foJyNiHGMG"
      },
      "source": [
        "# visualize a batch of data in a grid.\n",
        "#       using the make_grid function from torchvision, and using the .permute method on the tensor \n",
        "#       to move the channels to the last dimension, as expected by matplotlib.\n",
        "def show_batch(f_dl):\n",
        "    \"\"\"\n",
        "    visualize a batch of data in a grid.\n",
        "    args: \n",
        "        f_dl - dataloader, we visualize a batch from this dataloader. \n",
        "    \"\"\"\n",
        "    for images, labels in f_dl:\n",
        "        fig, ax = plt.subplots(figsize=(12, 12))\n",
        "        ax.set_xticks([]); ax.set_yticks([])\n",
        "        ax.imshow(make_grid(images[:60], nrow=10).permute(1, 2, 0))\n",
        "        break"
      ],
      "execution_count": 42,
      "outputs": []
    },
    {
      "cell_type": "markdown",
      "metadata": {
        "id": "naTMRjK1jujP"
      },
      "source": [
        "# Data Preparation\n",
        "\n",
        ">This dataset is well structured for most deep learning frameworks. It is organized into train, val, and test folders, which contains subfolders of the classes of pneumonia (normal, pneumonia), each containing the respective jpeg images.\n",
        "\n",
        "\n"
      ]
    },
    {
      "cell_type": "code",
      "metadata": {
        "colab": {
          "base_uri": "https://localhost:8080/"
        },
        "id": "kFtSDZDTkv_6",
        "outputId": "643a6ff6-5774-40f0-ba3d-4b9e6fff4885"
      },
      "source": [
        "data_dir = '/content/drive/MyDrive/DL/project_ariel_yael/pneumonia/dataset'\n",
        "\n",
        "print(\"directories in data_dir:\", os.listdir(data_dir))\n",
        "\n",
        "print(\"classes in data_dir_train:\", os.listdir(data_dir + \"/train\"))\n",
        "print()\n",
        "pneumonia_files_train = os.listdir(data_dir + \"/train/PNEUMONIA\")\n",
        "print('No. of training examples for Pneumonia:', len(pneumonia_files_train))\n",
        "normal_files_train = os.listdir(data_dir + \"/train/NORMAL\")\n",
        "print('No. of training examples for Normal:', len(normal_files_train))\n",
        "\n",
        "# lets take a look on the train and how the folder orgenized:\n",
        "print(\"\\n\",'lets take a look on the train/PNEUMONIA and how the folder orgenized:')\n",
        "print(pneumonia_files_train[:5])\n",
        "print(\"\\n\",'lets take a look on the train/NORMAL and how the folder orgenized:')\n",
        "print(normal_files_train[:5])\n"
      ],
      "execution_count": 43,
      "outputs": [
        {
          "output_type": "stream",
          "text": [
            "directories in data_dir: ['val', 'train', 'test']\n",
            "classes in data_dir_train: ['PNEUMONIA', 'NORMAL']\n",
            "\n",
            "No. of training examples for Pneumonia: 3875\n",
            "No. of training examples for Normal: 1341\n",
            "\n",
            " lets take a look on the train/PNEUMONIA and how the folder orgenized:\n",
            "['person534_bacteria_2251.jpeg', 'person533_bacteria_2250.jpeg', 'person537_bacteria_2262.jpeg', 'person563_bacteria_2335.jpeg', 'person590_virus_1138.jpeg']\n",
            "\n",
            " lets take a look on the train/NORMAL and how the folder orgenized:\n",
            "['IM-0523-0001-0002.jpeg', 'IM-0511-0001.jpeg', 'IM-0520-0001.jpeg', 'IM-0513-0001.jpeg', 'IM-0519-0001.jpeg']\n"
          ],
          "name": "stdout"
        }
      ]
    },
    {
      "cell_type": "markdown",
      "metadata": {
        "id": "jRrPBG7NPRd9"
      },
      "source": [
        "## Create train dataset.\n",
        "> Notice the data augmentation being applied. \n",
        "During training, this image might be transformed to this form, but in another epoch, this image will receive another random transformation, and this DIVERSIFIES the dataset, since the model is not receiving each image in the same 'form' every epoch."
      ]
    },
    {
      "cell_type": "code",
      "metadata": {
        "colab": {
          "base_uri": "https://localhost:8080/"
        },
        "id": "23mhJhqKqQlQ",
        "outputId": "d938f45d-5c05-480a-d5e2-a419e71150af"
      },
      "source": [
        "# define pre-processing steps on images\n",
        "data_transorm_train = tt.Compose([tt.Resize(255),\n",
        "                              tt.CenterCrop(224),\n",
        "                              tt.RandomHorizontalFlip(),\n",
        "                              tt.RandomRotation(10),\n",
        "                              tt.RandomGrayscale(),\n",
        "                              tt.RandomAffine(translate=(0.05,0.05), degrees=0),\n",
        "                              tt.ToTensor()\n",
        "                              #tt.Normalize(mean=[0.485, 0.456, 0.406],std=[0.229, 0.224, 0.225] ,inplace=True)\n",
        "                              ])\n",
        "\n",
        "# create train dataset:\n",
        "dataset_train = ImageFolder(data_dir + \"/train\", data_transorm_train)\n",
        "print(\"classes in train dataset:\",dataset_train.classes,\"\\n\")\n",
        "print(\"train dataset:\",\"\\n\")\n",
        "print(dataset_train)\n"
      ],
      "execution_count": 44,
      "outputs": [
        {
          "output_type": "stream",
          "text": [
            "classes in train dataset: ['NORMAL', 'PNEUMONIA'] \n",
            "\n",
            "train dataset: \n",
            "\n",
            "Dataset ImageFolder\n",
            "    Number of datapoints: 5216\n",
            "    Root location: /content/drive/MyDrive/DL/project_ariel_yael/pneumonia/dataset/train\n",
            "    StandardTransform\n",
            "Transform: Compose(\n",
            "               Resize(size=255, interpolation=bilinear, max_size=None, antialias=None)\n",
            "               CenterCrop(size=(224, 224))\n",
            "               RandomHorizontalFlip(p=0.5)\n",
            "               RandomRotation(degrees=[-10.0, 10.0], interpolation=nearest, expand=False, fill=0)\n",
            "               RandomGrayscale(p=0.1)\n",
            "               RandomAffine(degrees=[0.0, 0.0], translate=(0.05, 0.05))\n",
            "               ToTensor()\n",
            "           )\n"
          ],
          "name": "stdout"
        }
      ]
    },
    {
      "cell_type": "markdown",
      "metadata": {
        "id": "wt7N61TRQAbX"
      },
      "source": [
        "## statisics and visualizations"
      ]
    },
    {
      "cell_type": "code",
      "metadata": {
        "colab": {
          "base_uri": "https://localhost:8080/"
        },
        "id": "3OdYGCiOyLpE",
        "outputId": "80c62437-2b67-4f1c-f6a8-ec8032728093"
      },
      "source": [
        "# Let's look at an example of an image in its tensor form. Note that after being loaded, \n",
        "# each image is now [3, 224, 224], with 3 being the RGB channels\n",
        "img, label = dataset_train[0]\n",
        "print(img.shape, label)\n",
        "img"
      ],
      "execution_count": 45,
      "outputs": [
        {
          "output_type": "stream",
          "text": [
            "torch.Size([3, 224, 224]) 0\n"
          ],
          "name": "stdout"
        },
        {
          "output_type": "execute_result",
          "data": {
            "text/plain": [
              "tensor([[[0., 0., 0.,  ..., 0., 0., 0.],\n",
              "         [0., 0., 0.,  ..., 0., 0., 0.],\n",
              "         [0., 0., 0.,  ..., 0., 0., 0.],\n",
              "         ...,\n",
              "         [0., 0., 0.,  ..., 0., 0., 0.],\n",
              "         [0., 0., 0.,  ..., 0., 0., 0.],\n",
              "         [0., 0., 0.,  ..., 0., 0., 0.]],\n",
              "\n",
              "        [[0., 0., 0.,  ..., 0., 0., 0.],\n",
              "         [0., 0., 0.,  ..., 0., 0., 0.],\n",
              "         [0., 0., 0.,  ..., 0., 0., 0.],\n",
              "         ...,\n",
              "         [0., 0., 0.,  ..., 0., 0., 0.],\n",
              "         [0., 0., 0.,  ..., 0., 0., 0.],\n",
              "         [0., 0., 0.,  ..., 0., 0., 0.]],\n",
              "\n",
              "        [[0., 0., 0.,  ..., 0., 0., 0.],\n",
              "         [0., 0., 0.,  ..., 0., 0., 0.],\n",
              "         [0., 0., 0.,  ..., 0., 0., 0.],\n",
              "         ...,\n",
              "         [0., 0., 0.,  ..., 0., 0., 0.],\n",
              "         [0., 0., 0.,  ..., 0., 0., 0.],\n",
              "         [0., 0., 0.,  ..., 0., 0., 0.]]])"
            ]
          },
          "metadata": {
            "tags": []
          },
          "execution_count": 45
        }
      ]
    },
    {
      "cell_type": "code",
      "metadata": {
        "colab": {
          "base_uri": "https://localhost:8080/",
          "height": 35
        },
        "id": "aVu60ig3HYL9",
        "outputId": "b10732f9-ae7d-4f93-f686-208f6bd41f3d"
      },
      "source": [
        "# plot out some images with their labels.\n",
        "\n",
        "##############################################\n",
        "# disable will training for efficiency\n",
        "##############################################\n",
        "\"\"\"\n",
        "show_example(*dataset_train[4], dataset_train) \n",
        "\"\"\""
      ],
      "execution_count": 46,
      "outputs": [
        {
          "output_type": "execute_result",
          "data": {
            "application/vnd.google.colaboratory.intrinsic+json": {
              "type": "string"
            },
            "text/plain": [
              "'\\nshow_example(*dataset_train[4], dataset_train) \\n'"
            ]
          },
          "metadata": {
            "tags": []
          },
          "execution_count": 46
        }
      ]
    },
    {
      "cell_type": "code",
      "metadata": {
        "colab": {
          "base_uri": "https://localhost:8080/",
          "height": 105
        },
        "id": "clwi9RguZcaZ",
        "outputId": "2b0af839-2a45-4f06-ce4b-34ba7b5c944d"
      },
      "source": [
        "# number of images for each class\n",
        "\n",
        "##############################################\n",
        "# disable will training for efficiency\n",
        "##############################################\n",
        "\"\"\"\n",
        "train_samplesize = pd.DataFrame.from_dict(\n",
        "    {'Normal': [len([os.path.join(data_dir+'/train/NORMAL', filename) \n",
        "                     for filename in os.listdir(data_dir+'/train/NORMAL')])], \n",
        "     'Pneumonia': [len([os.path.join(data_dir+'/train/PNEUMONIA', filename) \n",
        "                        for filename in os.listdir(data_dir+'/train/PNEUMONIA')])]})\n",
        "\n",
        "\n",
        "sns.barplot(data=train_samplesize).set_title('Training Set Data Inbalance', fontsize=20)\n",
        "plt.show()\n",
        "\"\"\""
      ],
      "execution_count": 47,
      "outputs": [
        {
          "output_type": "execute_result",
          "data": {
            "application/vnd.google.colaboratory.intrinsic+json": {
              "type": "string"
            },
            "text/plain": [
              "\"\\ntrain_samplesize = pd.DataFrame.from_dict(\\n    {'Normal': [len([os.path.join(data_dir+'/train/NORMAL', filename) \\n                     for filename in os.listdir(data_dir+'/train/NORMAL')])], \\n     'Pneumonia': [len([os.path.join(data_dir+'/train/PNEUMONIA', filename) \\n                        for filename in os.listdir(data_dir+'/train/PNEUMONIA')])]})\\n\\n\\nsns.barplot(data=train_samplesize).set_title('Training Set Data Inbalance', fontsize=20)\\nplt.show()\\n\""
            ]
          },
          "metadata": {
            "tags": []
          },
          "execution_count": 47
        }
      ]
    },
    {
      "cell_type": "code",
      "metadata": {
        "colab": {
          "base_uri": "https://localhost:8080/",
          "height": 87
        },
        "id": "CeD4tbQUZ_fD",
        "outputId": "61a00473-f072-4924-dfb6-58693fa96e0c"
      },
      "source": [
        "## Plot training samples\n",
        "\n",
        "##############################################\n",
        "# disable will training for efficiency\n",
        "##############################################\n",
        "\"\"\"\n",
        "rand_samples_train = random.sample([os.path.join(data_dir+'/train/NORMAL', filename) \n",
        "                              for filename in os.listdir(data_dir+'/train/NORMAL')], 5) + \\\n",
        "    random.sample([os.path.join(data_dir+'/train/PNEUMONIA', filename) \n",
        "                   for filename in os.listdir(data_dir+'/train/PNEUMONIA')], 5)\n",
        "\n",
        "plot_samples(rand_samples_train)\n",
        "plt.suptitle('Training Set Samples', fontsize=30)\n",
        "plt.show()\n",
        "\"\"\""
      ],
      "execution_count": 48,
      "outputs": [
        {
          "output_type": "execute_result",
          "data": {
            "application/vnd.google.colaboratory.intrinsic+json": {
              "type": "string"
            },
            "text/plain": [
              "\"\\nrand_samples_train = random.sample([os.path.join(data_dir+'/train/NORMAL', filename) \\n                              for filename in os.listdir(data_dir+'/train/NORMAL')], 5) +     random.sample([os.path.join(data_dir+'/train/PNEUMONIA', filename) \\n                   for filename in os.listdir(data_dir+'/train/PNEUMONIA')], 5)\\n\\nplot_samples(rand_samples_train)\\nplt.suptitle('Training Set Samples', fontsize=30)\\nplt.show()\\n\""
            ]
          },
          "metadata": {
            "tags": []
          },
          "execution_count": 48
        }
      ]
    },
    {
      "cell_type": "markdown",
      "metadata": {
        "id": "mH-bA9cFzu55"
      },
      "source": [
        "## Split into Train & Validation Data\n",
        "> Split training dataset into (80%)train and (20%)validation.\n",
        "* **Training set** - used to train the model i.e. compute the loss and adjust the weights of the model using gradient descent.\n",
        "* **Validation set** - used to evaluate the model while training, adjust hyperparameters (learning rate etc.) and pick the best version of the model.\n",
        "* **Test set** - used to compare different models, or different types of modeling approaches, and report the final accuracy of the model.\n",
        "    * the test set will be defined later"
      ]
    },
    {
      "cell_type": "code",
      "metadata": {
        "colab": {
          "base_uri": "https://localhost:8080/"
        },
        "id": "dpuqizdPDCW4",
        "outputId": "d749bb98-dcc3-4b6b-fd51-efab74f136ef"
      },
      "source": [
        "# Split training dataset to train and validation\n",
        "train_size = round(len(dataset_train)*0.8) # 80%\n",
        "val_size = len(dataset_train) - train_size # 20%\n",
        "\n",
        "train_ds, val_ds = random_split(dataset_train, [train_size, val_size])\n",
        "\n",
        "print(\"number of samples in dataset:\\n\", \"train_ds:\", len(train_ds), \"val_ds:\", len(val_ds))"
      ],
      "execution_count": 49,
      "outputs": [
        {
          "output_type": "stream",
          "text": [
            "number of samples in dataset:\n",
            " train_ds: 4173 val_ds: 1043\n"
          ],
          "name": "stdout"
        }
      ]
    },
    {
      "cell_type": "markdown",
      "metadata": {
        "id": "WGUvDdkqGHdF"
      },
      "source": [
        "## Create dataloaders\n",
        "> **batch size:** Here we select a batch size of 32 to perform mini_batch gradient descent/or other optimizers. This is a hyperparameter that can be tuned. The batch size means that the 4173 train images will be divided into batches of 32 images and gradient descent will be performed on each of this 32 images in one epoch (1 runthrough of the whole data).\n",
        "\n"
      ]
    },
    {
      "cell_type": "code",
      "metadata": {
        "id": "TpXHbtu5zr-b"
      },
      "source": [
        "# hyperparameter: batch zise\n",
        "batch_size_train=32\n",
        "\n",
        "# create dataloaders\n",
        "train_dataloader = DataLoader(train_ds, batch_size_train, shuffle=True, num_workers=2, pin_memory=True) \n",
        "val_dataloader = DataLoader(val_ds, batch_size_train*2,shuffle=False, num_workers=2, pin_memory=True) \n"
      ],
      "execution_count": 50,
      "outputs": []
    },
    {
      "cell_type": "markdown",
      "metadata": {
        "id": "qBIpOWEl3nXi"
      },
      "source": [
        "# device"
      ]
    },
    {
      "cell_type": "code",
      "metadata": {
        "colab": {
          "base_uri": "https://localhost:8080/"
        },
        "id": "m792VmZEz84N",
        "outputId": "78735a7f-7645-4cbe-8569-64aeaff68493"
      },
      "source": [
        "# device - cpu or gpu?\n",
        "device = torch.device(\"cuda:0\" if torch.cuda.is_available() else \"cpu\")\n",
        "print(device)"
      ],
      "execution_count": 51,
      "outputs": [
        {
          "output_type": "stream",
          "text": [
            "cuda:0\n"
          ],
          "name": "stdout"
        }
      ]
    },
    {
      "cell_type": "markdown",
      "metadata": {
        "id": "mQFB8cPOHJiy"
      },
      "source": [
        "# Utils"
      ]
    },
    {
      "cell_type": "markdown",
      "metadata": {
        "id": "juXqww4TJDgf"
      },
      "source": [
        "## printTime()"
      ]
    },
    {
      "cell_type": "code",
      "metadata": {
        "id": "d_7bnRjOmIax"
      },
      "source": [
        "def printTime(f_startTime) : \n",
        "    \"\"\"\n",
        "    Print time elapsed since f_startTime\n",
        "    \"\"\"\n",
        "    f_epochIter_time = time.time() - f_startTime\n",
        "    print(\"time : {:.2f} secs\".format(f_epochIter_time))"
      ],
      "execution_count": 52,
      "outputs": []
    },
    {
      "cell_type": "markdown",
      "metadata": {
        "id": "ydgY-n1h_K36"
      },
      "source": [
        "## getDateTimeString()"
      ]
    },
    {
      "cell_type": "code",
      "metadata": {
        "id": "Yy_N9mcO9nEk"
      },
      "source": [
        "def getDateTimeString() :\n",
        "    \"\"\"\n",
        "    get the date and time as a string, use for checkpoints.\n",
        "    \"\"\"\n",
        "    # datetime object containing current date and time\n",
        "    now = datetime.now()\n",
        "\n",
        "    # dd/mm/YY H:M:S\n",
        "    dt_string = now.strftime(\"%Y-%m-%d_%H:%M\")\n",
        "    return \"time:\" + dt_string\n"
      ],
      "execution_count": 53,
      "outputs": []
    },
    {
      "cell_type": "markdown",
      "metadata": {
        "id": "LOgOBIbsJGYM"
      },
      "source": [
        "## set_parameter_requires_grad()\n",
        "\n",
        "\n",
        "> The following helper function sets the .requires_grad attribute of the parameters in the model to False when we are feature extracting.\n",
        "By default, when we load a pretrained model all of the parameters have .requires_grad=True, which is fine if we are **training from scratch or finetuning**.\n",
        "However, if we are **feature extracting** and only want to compute gradients for the newly initialized layer then we want all of the other parameters to not require gradients."
      ]
    },
    {
      "cell_type": "code",
      "metadata": {
        "id": "Nl1Jt5UN4cak"
      },
      "source": [
        "def set_parameter_requires_grad(f_model, f_feature_extracting=False):\n",
        "    \"\"\"\n",
        "    Set Model Parameters’ .requires_grad attribute\n",
        "    Args:\n",
        "        f_model - the pretrained model\n",
        "        f_feature_extracting - False when we are feature extracting\n",
        "                             - True when we are training from scratch or finetuning.\n",
        "    \"\"\"\n",
        "    if f_feature_extracting:\n",
        "        for param in f_model.parameters():\n",
        "            param.requires_grad = False\n",
        "    else:\n",
        "        for param in f_model.parameters():\n",
        "            param.requires_grad = True"
      ],
      "execution_count": 54,
      "outputs": []
    },
    {
      "cell_type": "markdown",
      "metadata": {
        "id": "3i28VHS0JNQl"
      },
      "source": [
        "## gather_params_to_update()\n",
        "\n",
        "> The following helper function Gather the parameters to be optimized/updated in this run. If we are fine-tuning we will be updating all parameters. if we are doing feature extract method, we will only update the parameters that we have just initialized, i.e. the parameters with requires_grad is True.\n"
      ]
    },
    {
      "cell_type": "code",
      "metadata": {
        "id": "gonNmjbBtbn7"
      },
      "source": [
        "def gather_params_to_update(f_model, f_feature_extracting):\n",
        "  \"\"\" \n",
        "  Gather the parameters to be optimized/updated in this run\n",
        "  Args:\n",
        "        f_model - the pretrained model\n",
        "        f_feature_extracting - False when we are feature extracting\n",
        "                             - True when we are training from scratch or finetuning.\n",
        "\n",
        "  return: list of parameters to be optimized.\n",
        "        (when feature extracting this list should be short and only include \n",
        "        the weights and biases of the reshaped layers.)\n",
        "  \"\"\"\n",
        "  f_params_to_update = f_model.parameters()\n",
        "  print(\"Params to learn:\")\n",
        "  if f_feature_extracting:\n",
        "      f_params_to_update = []\n",
        "      for name,param in f_model.named_parameters():\n",
        "          if param.requires_grad == True:\n",
        "              f_params_to_update.append(param)\n",
        "              print(\"\\t\",name)\n",
        "  else:\n",
        "      for name,param in f_model.named_parameters():\n",
        "          if param.requires_grad == True:\n",
        "              print(\"\\t\",name)\n",
        "  return f_params_to_update "
      ],
      "execution_count": 55,
      "outputs": []
    },
    {
      "cell_type": "markdown",
      "metadata": {
        "id": "kxuBHyOYW_WD"
      },
      "source": [
        "## plot_acc_and_loss()"
      ]
    },
    {
      "cell_type": "code",
      "metadata": {
        "id": "t8AAS-bGW-wm"
      },
      "source": [
        "# Plot Accuracy and Loss according to the history\n",
        "def plot_acc_and_loss(f_number_of_epochs, f_history, f_header = \"\"):\n",
        "    \"\"\"\n",
        "    plots of the accuracy and loss for the training and validation data. \n",
        "    This gives us an idea of how our model is performing (e.g., underfitting, overfitting).\n",
        "\n",
        "    Args:\n",
        "        f_number_of_epochs - number of elements in each history\n",
        "        f_history - {'train_loss','train_acc','val_loss','val_acc'}\n",
        "        f_header - header to print\n",
        "    \"\"\"\n",
        "\n",
        "    f, (f_ax1, f_ax2) = plt.subplots(1, 2, figsize=(25, 5))\n",
        "    t = f.suptitle('Performance'+\"\\n\"+f_header, fontsize=12)\n",
        "    f.subplots_adjust(top=0.85, wspace=0.3)\n",
        "\n",
        "    f_epoch_list = list(range(1,f_number_of_epochs+1))\n",
        "    f_ax1.plot(f_epoch_list, f_history['train_acc'], label='Train Accuracy')\n",
        "    f_ax1.plot(f_epoch_list, f_history['val_acc'], label='Validation Accuracy')\n",
        "    f_ax1.set_xticks(np.arange(0, f_number_of_epochs+1, 1))\n",
        "    f_ax1.set_ylabel('Accuracy Value')\n",
        "    f_ax1.set_xlabel('Epoch')\n",
        "    f_ax1.set_title('Accuracy')\n",
        "    l1 = f_ax1.legend(loc=\"best\")\n",
        "\n",
        "    f_ax2.plot(f_epoch_list, f_history['train_loss'], label='Train Loss')\n",
        "    f_ax2.plot(f_epoch_list, f_history['val_loss'], label='Validation Loss')\n",
        "    f_ax2.set_xticks(np.arange(0, f_number_of_epochs+1, 1))\n",
        "    f_ax2.set_ylabel('Loss Value')\n",
        "    f_ax2.set_xlabel('Epoch')\n",
        "    f_ax2.set_title('Loss')\n",
        "    l2 = f_ax2.legend(loc=\"best\")"
      ],
      "execution_count": 56,
      "outputs": []
    },
    {
      "cell_type": "markdown",
      "metadata": {
        "id": "JUq34aqfaJNu"
      },
      "source": [
        "## plot_acc_and_loss_for_train_and_val()"
      ]
    },
    {
      "cell_type": "code",
      "metadata": {
        "id": "LVpcPWKjX6nd"
      },
      "source": [
        "# Plot Accuracy and Loss according to the history\n",
        "def plot_acc_and_loss_for_train_and_val( f_history, f_header= \"\"):\n",
        "    \"\"\"\n",
        "    plots of the accuracy and loss for the training and validation data. \n",
        "    This gives us an idea of how our model is performing (e.g., underfitting, overfitting).\n",
        "\n",
        "    Args:\n",
        "        f_history - {'train_loss','train_acc','val_loss','val_acc'}\n",
        "        f_header - header to print\n",
        "    \"\"\"\n",
        "    f_number_of_epochs = len(f_history['train_acc'])\n",
        "\n",
        "    f, (f_ax1, f_ax2) = plt.subplots(1, 2, figsize=(25, 5))\n",
        "    t = f.suptitle('Performance'+\"\\n\"+f_header, fontsize=12)\n",
        "    f.subplots_adjust(top=0.8, wspace=0.3)\n",
        "\n",
        "    f_epoch_list = list(range(1,f_number_of_epochs+1))\n",
        "    # plot train and validation accuracy on the same subplot\n",
        "    f_ax1.plot(f_epoch_list, f_history['train_acc'], label='Train Accuracy')\n",
        "    f_ax1.plot(f_epoch_list, f_history['val_acc'], label='Validation Accuracy')\n",
        "    f_ax1.set_xticks(np.arange(0, f_number_of_epochs+1, 5))\n",
        "    f_ax1.set_ylabel('Accuracy Value')\n",
        "    f_ax1.set_xlabel('Epoch')\n",
        "    f_ax1.set_title('Accuracy')\n",
        "    l1 = f_ax1.legend(loc=\"best\")\n",
        "\n",
        "     # plot train and validation loss on the same subplot\n",
        "    f_ax2.plot(f_epoch_list, f_history['train_loss'], label='Train Loss')\n",
        "    f_ax2.plot(f_epoch_list, f_history['val_loss'], label='Validation Loss')\n",
        "    f_ax2.set_xticks(np.arange(0, f_number_of_epochs+1, 5))\n",
        "    f_ax2.set_ylabel('Loss Value')\n",
        "    f_ax2.set_xlabel('Epoch')\n",
        "    f_ax2.set_title('Loss')\n",
        "    l2 = f_ax2.legend(loc=\"best\")"
      ],
      "execution_count": 57,
      "outputs": []
    },
    {
      "cell_type": "markdown",
      "metadata": {
        "id": "JutuRjzzbF2O"
      },
      "source": [
        "## plot_multiple_acc_and_loss()"
      ]
    },
    {
      "cell_type": "code",
      "metadata": {
        "id": "tHpF-h86bEeV"
      },
      "source": [
        "#preperations: must dune before calling the function:\n",
        "run_preperation = False\n",
        "if run_preperation : \n",
        "    #checkpoint_dir = '/content/drive/MyDrive/DL/project_ariel_yael/pneumonia/checkpoints_ver3'\n",
        "\n",
        "    hist_file_name_list = []\n",
        "    hist_file_name_list_lr001 = []\n",
        "    hist_file_name_list_lr001_loss = []\n",
        "    hist_file_name_list_lr001_acc = []\n",
        "    hist_file_name_list_lr0001 = []\n",
        "    hist_file_name_list_lr0001_loss = []\n",
        "    hist_file_name_list_lr0001_acc = []\n",
        "    # history = {'train_loss','train_acc','val_loss','val_acc'} saved in checkpoint_dir with suffix '__hist.pth'\n",
        "    checkpints_hist_to_print_dir = checkpoint_dir\n",
        "    checkpints_hist_to_print_files = os.listdir(checkpints_to_print_dir)\n",
        "    \n",
        "\n",
        "\n",
        "    for file_name in checkpints_hist_to_print_files:\n",
        "        if '__hist.pth' in file_name:\n",
        "            if '0.001__' in file_name:\n",
        "                hist_file_name_list_lr001.append(file_name)\n",
        "\n",
        "                curHist = torch.load(checkpoint_dir + '/' + file_name)\n",
        "                hist_file_name_list_lr001_loss.append(curHist['val_loss'])\n",
        "                hist_file_name_list_lr001_acc.append(curHist['val_acc'])\n",
        "\n",
        "            elif '0.0001__' in file_name:\n",
        "                hist_file_name_list_lr0001.append(file_name)   \n",
        "\n",
        "                curHist = torch.load(checkpoint_dir + '/' + file_name)\n",
        "                hist_file_name_list_lr0001_loss.append(curHist['val_loss'])\n",
        "                hist_file_name_list_lr0001_acc.append(curHist['val_acc'])\n",
        "\n",
        "    plot_multiple_acc_and_loss( hist_file_name_list_lr001_loss,hist_file_name_list_lr001_acc, hist_file_name_list_lr001, header= 'performance when changin the model, when LR = LR = 0.001')\n",
        "    plot_multiple_acc_and_loss( hist_file_name_list_lr0001_loss,hist_file_name_list_lr0001_acc, hist_file_name_list_lr0001, header= 'performance when changin the model, when LR = LR = 0.0001')\n",
        "\n",
        "\n",
        "def plot_multiple_acc_and_loss( f_list_of_hestory_loss,f_list_of_hestory_acc_acc,f_hist_file_name_list, f_header= \"\"):\n",
        "    f, (f_ax1, f_ax2) = plt.subplots(1, 2, figsize=(15, 4))\n",
        "    t = f.suptitle('Performance'+\"\\n\"+f_header, fontsize=10)\n",
        "    f.subplots_adjust(top=0.95, wspace=0.3)\n",
        "\n",
        "    f_num_epochs = len(f_list_of_hestory_loss[0])\n",
        "    f_epoch_list = list(range(1,f_num_epochs+1))\n",
        "    f_number_of_plots = len(f_hist_file_name_list)\n",
        "    for i in range(f_number_of_plots):\n",
        "        tmp1 = f_hist_file_name_list[i].split(\"__\",2)[2] \n",
        "        tmp2 = tmp1.split(\"__hist\",1)[0] \n",
        "\n",
        "        f_ax2.plot(f_epoch_list, f_list_of_hestory_loss[i], label=tmp2 )\n",
        "        f_ax1.plot(f_epoch_list, f_list_of_hestory_acc_acc[i], label=tmp2)\n",
        "\n",
        "    f_ax1.set_xticks(np.arange(0, f_num_epochs+1, 5))\n",
        "    f_ax1.set_ylabel('Accuracy Value')\n",
        "    f_ax1.set_xlabel('Epoch')\n",
        "    f_ax1.set_title('Accuracy')\n",
        "    l1 = f_ax1.legend(fontsize=8, loc=\"lower right\")\n",
        "\n",
        "    f_ax2.set_xticks(np.arange(0, f_num_epochs+1, 5))\n",
        "    f_ax2.set_ylabel('Loss Value')\n",
        "    f_ax2.set_xlabel('Epoch')\n",
        "    f_ax2.set_title('Loss')\n",
        "    l2 = f_ax2.legend(fontsize=8, loc=\"upper right\")\n",
        "\n",
        "    # Adding legend, which helps us recognize the curve according to it's color\n",
        "    plt.legend(fontsize=8)\n",
        "    \n",
        "    # To load the display window\n",
        "    plt.show()"
      ],
      "execution_count": 58,
      "outputs": []
    },
    {
      "cell_type": "markdown",
      "metadata": {
        "id": "PVKjCrHSzk7k"
      },
      "source": [
        "# Model Functions"
      ]
    },
    {
      "cell_type": "markdown",
      "metadata": {
        "id": "E1OchvLij3fs"
      },
      "source": [
        "## intialize the model"
      ]
    },
    {
      "cell_type": "markdown",
      "metadata": {
        "id": "YNUMMifGjYMx"
      },
      "source": [
        "> the following function used to compare between the pretrained models :\n",
        "* efficientnet-b0\n",
        "* resnet\n",
        "* alexnet\n",
        "* vgg\n",
        "* squeezenet\n",
        "* densenet\n",
        "\n",
        "> We load each of the models, setting the pretrained parameter to true to load the pretrained weights. We then freeze the starting layers of the network (except the fully connected layer) and replaced the last layer (fc) with our own as our output has only 2 classes, where the pretained model was trained to output more classes (most of them 1000 classes).*italicized text*\n"
      ]
    },
    {
      "cell_type": "markdown",
      "metadata": {
        "id": "-eI0gpZFOORt"
      },
      "source": [
        "## initialize_model_old()"
      ]
    },
    {
      "cell_type": "code",
      "metadata": {
        "id": "-B5fa3BFjEmE"
      },
      "source": [
        "def initialize_model_old(f_model_name, f_use_pretrained, f_feature_extract):\n",
        "    print(\"initialize_model parameters:\")\n",
        "    print(\"         model_name:\", f_model_name , \"use_pretrained:\", f_use_pretrained, \"feature_extract:\", f_feature_extract)\n",
        "\n",
        "    # Initialize these variables which will be set in this if statement. Each of these\n",
        "    #   variables is model specific.\n",
        "    f_model_ft = None\n",
        "    f_num_classes = 2 # normal. pneumonia\n",
        "    f_input_size = 0  # image size, e.g. (3, 224, 224)\n",
        "\n",
        "    if f_model_name == 'efficientnet-b0':\n",
        "        \"\"\" Efficientnet-b0\n",
        "        \"\"\"\n",
        "        f_model_ft = EfficientNet.from_pretrained(f_model_name)\n",
        "        set_parameter_requires_grad(f_model_ft, f_feature_extract)\n",
        "        num_ftrs = f_model_ft._fc.in_features \n",
        "        f_model_ft._fc = nn.Linear(num_ftrs, f_num_classes) # replace the last FC layer\n",
        "        f_input_size = 224 # for b0: input_size = 224\n",
        "        \n",
        "\n",
        "    elif f_model_name == \"resnet\":\n",
        "        \"\"\" Resnet18\n",
        "        \"\"\"\n",
        "        f_model_ft = models.resnet18(pretrained=f_use_pretrained)\n",
        "        set_parameter_requires_grad(f_model_ft, f_feature_extract)\n",
        "        num_ftrs = f_model_ft.fc.in_features\n",
        "        f_model_ft.fc = nn.Linear(num_ftrs, f_num_classes) # replace the last FC layer\n",
        "        f_input_size = 224\n",
        "\n",
        "    elif f_model_name == \"alexnet\":\n",
        "        \"\"\" Alexnet\n",
        "        \"\"\"\n",
        "        f_model_ft = models.alexnet(pretrained=f_use_pretrained)\n",
        "        set_parameter_requires_grad(f_model_ft, f_feature_extract)\n",
        "        num_ftrs = f_model_ft.classifier[6].in_features\n",
        "        f_model_ft.classifier[6] = nn.Linear(num_ftrs, f_num_classes)\n",
        "        f_input_size = 224\n",
        "\n",
        "    elif f_model_name == \"vgg\":\n",
        "        \"\"\" VGG16\n",
        "        \"\"\"\n",
        "        f_model_ft = models.vgg16(pretrained=f_use_pretrained)\n",
        "        set_parameter_requires_grad(f_model_ft, f_feature_extract)\n",
        "        num_ftrs = f_model_ft.classifier[6].in_features\n",
        "        model_ft.classifier[6] = nn.Linear(num_ftrs, f_num_classes)\n",
        "        f_input_size = 224\n",
        "\n",
        "    elif f_model_name == \"squeezenet\":\n",
        "        \"\"\" Squeezenet\n",
        "        \"\"\"\n",
        "        f_model_ft = models.squeezenet1_0(pretrained=f_use_pretrained)\n",
        "        set_parameter_requires_grad(f_model_ft, f_feature_extract)\n",
        "        f_model_ft.classifier[1] = nn.Conv2d(512, num_classes, kernel_size=(1,1), stride=(1,1))\n",
        "        f_model_ft.f_num_classes = f_num_classes\n",
        "        f_input_size = 224\n",
        "\n",
        "    elif f_model_name == \"densenet\":\n",
        "        \"\"\" Densenet\n",
        "        \"\"\"\n",
        "        f_model_ft = models.densenet121(pretrained=f_use_pretrained)\n",
        "        set_parameter_requires_grad(f_model_ft, f_feature_extract)\n",
        "        num_ftrs = f_model_ft.classifier.in_features\n",
        "        f_model_ft.classifier = nn.Linear(num_ftrs, f_num_classes)\n",
        "        f_input_size = 224\n",
        "\n",
        "    else:\n",
        "        raise NotImplementedError\n",
        "\n",
        "    return f_model_ft, f_input_size"
      ],
      "execution_count": 59,
      "outputs": []
    },
    {
      "cell_type": "markdown",
      "metadata": {
        "id": "4IT9Ml1qOVQc"
      },
      "source": [
        "## initialize_model()"
      ]
    },
    {
      "cell_type": "markdown",
      "metadata": {
        "id": "n7pKQIZDmU1c"
      },
      "source": [
        "the following function initialize model.\n",
        "after choosing Efficientnet-b0 as the pretrained model, \n",
        "* we tested 5 versions for the classifier we train - the layers replacing the last fc of the pretrained model. \n",
        "    * The versions differ by their depth (the number of fully connected layers)\n",
        "* We tried to use different activation functions and chosen to work with LeakyReLU, with a slope of 0.1\n",
        "* We tested the effect of batch normalization and decided to use it."
      ]
    },
    {
      "cell_type": "code",
      "metadata": {
        "id": "mw1PKlLcj3rb"
      },
      "source": [
        "def initialize_model(f_model_name, f_use_pretrained, f_feature_extract, f_chooseLong = 0):\n",
        " \n",
        "    print(\"initialize_model parameters:\")\n",
        "    print(\"model_name:\", f_model_name , \"use_pretrained:\", f_use_pretrained, \"feature_extract:\", f_feature_extract, \"chooseLong:\",f_chooseLong)\n",
        "\n",
        "    # Initialize these variables which will be set in this if statement. Each of these\n",
        "    #   variables is model specific.\n",
        "    f_model_ft = None\n",
        "    f_num_classes = 2 # normal. pneumonia\n",
        "    f_input_size = 0  # image size, e.g. (3, 224, 224)\n",
        "\n",
        "    if f_model_name == 'efficientnet-b0':\n",
        "        \"\"\" Efficientnet-b0\n",
        "        \"\"\"\n",
        "        f_model_ft = EfficientNet.from_pretrained(f_model_name)\n",
        "        set_parameter_requires_grad(f_model_ft, f_feature_extract)\n",
        "        # replace model classifier\n",
        "        num_ftrs = f_model_ft._fc.in_features \n",
        "\n",
        "        \n",
        "        if f_chooseLong == 0 :\n",
        "            f_model_ft._fc = nn.Linear(num_ftrs, f_num_classes) # replace the last FC layer\n",
        "\n",
        "        elif f_chooseLong == 1 :\n",
        "            f_model_ft._fc = nn.Sequential(nn.Linear(num_ftrs, 256),   \n",
        "                                        nn.LeakyReLU(0.1),\n",
        "                                        nn.Dropout(0.25),   \n",
        "                                        nn.Linear(256, 64),\n",
        "                                        nn.BatchNorm1d(64),\n",
        "                                        nn.LeakyReLU(0.1),  \n",
        "                                        nn.Linear(64, f_num_classes)) # replace the last FC layer\n",
        "        elif f_chooseLong == 2 :\n",
        "            f_model_ft._fc = nn.Sequential(nn.Linear(num_ftrs, 512),   \n",
        "                                        nn.LeakyReLU(0.1),\n",
        "                                        nn.Dropout(0.25),   \n",
        "                                        nn.Linear(512, 128), \n",
        "                                        nn.BatchNorm1d(128), \n",
        "                                        nn.LeakyReLU(0.1),  \n",
        "                                        nn.Linear(128, 64),\n",
        "                                        nn.BatchNorm1d(64), \n",
        "                                        nn.LeakyReLU(0.1),                                          \n",
        "                                        nn.Linear(64,f_num_classes))         \n",
        "        elif f_chooseLong == 3 :\n",
        "            f_model_ft._fc = nn.Sequential(nn.Linear(num_ftrs, 512),   \n",
        "                                        nn.LeakyReLU(0.1),\n",
        "                                        nn.Dropout(0.25),   \n",
        "                                        nn.Linear(512, 128), \n",
        "                                        nn.BatchNorm1d(128),\n",
        "                                        nn.LeakyReLU(0.1),  \n",
        "                                        nn.Linear(128, 64), \n",
        "                                        nn.LeakyReLU(0.1),                                        \n",
        "                                        nn.Linear(64,32),\n",
        "                                        nn.BatchNorm1d(32), \n",
        "                                        nn.LeakyReLU(0.1),     \n",
        "                                        nn.Linear(32,f_num_classes))             \n",
        "        elif f_chooseLong == 4 :\n",
        "            f_model_ft._fc = nn.Sequential(nn.Linear(num_ftrs, 512),     \n",
        "                                        nn.LeakyReLU(0.1),\n",
        "                                        nn.Dropout(0.25),   \n",
        "                                        nn.Linear(512, 256),\n",
        "                                        nn.BatchNorm1d(256), \n",
        "                                        nn.LeakyReLU(0.1),  \n",
        "                                        nn.Linear(256, 128), \n",
        "                                        nn.LeakyReLU(0.1),    \n",
        "                                        nn.Linear(128, 64),\n",
        "                                        nn.BatchNorm1d(64),     \n",
        "                                        nn.LeakyReLU(0.1),                              \n",
        "                                        nn.Dropout(0.1), \n",
        "                                        nn.Linear(64,32), \n",
        "                                        nn.LeakyReLU(0.1),\n",
        "                                        nn.Linear(32,f_num_classes))\n",
        "    else:\n",
        "        raise NotImplementedError\n",
        "\n",
        "    return f_model_ft, f_input_size"
      ],
      "execution_count": 60,
      "outputs": []
    },
    {
      "cell_type": "code",
      "metadata": {
        "id": "hq_q69hnnW38"
      },
      "source": [
        "def initialize_model_3_relu(f_model_name, f_use_pretrained, f_feature_extract, f_chooseLong = 3):\n",
        " \n",
        "    print(\"initialize_model parameters:\")\n",
        "    print(\"model_name:\", f_model_name , \"use_pretrained:\", f_use_pretrained, \"feature_extract:\", f_feature_extract, \"chooseLong:\",f_chooseLong)\n",
        "\n",
        "    # Initialize these variables which will be set in this if statement. Each of these\n",
        "    #   variables is model specific.\n",
        "    f_model_ft = None\n",
        "    f_num_classes = 2 # normal. pneumonia\n",
        "    f_input_size = 0  # image size, e.g. (3, 224, 224)\n",
        "\n",
        "    if f_model_name == 'efficientnet-b0':\n",
        "        \"\"\" Efficientnet-b0\n",
        "        \"\"\"\n",
        "        f_model_ft = EfficientNet.from_pretrained(f_model_name)\n",
        "        set_parameter_requires_grad(f_model_ft, f_feature_extract)\n",
        "        # replace model classifier\n",
        "        num_ftrs = f_model_ft._fc.in_features \n",
        "\n",
        "        \n",
        "        if f_chooseLong == 0 :\n",
        "            print()\n",
        "      \n",
        "        elif f_chooseLong == 3 :\n",
        "            f_model_ft._fc = nn.Sequential(nn.Linear(num_ftrs, 512),   \n",
        "                                        nn.ReLU(),\n",
        "                                        nn.Dropout(0.25),   \n",
        "                                        nn.Linear(512, 128), \n",
        "                                        nn.ReLU(),  \n",
        "                                        nn.Linear(128, 64), \n",
        "                                        nn.ReLU(),                                        \n",
        "                                        nn.Linear(64,32),\n",
        "                                        nn.ReLU(),    \n",
        "                                        nn.Linear(32,f_num_classes))             \n",
        "\n",
        "    else:\n",
        "        raise NotImplementedError\n",
        "\n",
        "    return f_model_ft, f_input_size"
      ],
      "execution_count": 61,
      "outputs": []
    },
    {
      "cell_type": "code",
      "metadata": {
        "id": "88sROXhpnLM1"
      },
      "source": [
        "def initialize_model_3_LeakyRelu_noBatchNorm(f_model_name, f_use_pretrained, f_feature_extract, f_chooseLong = 3):\n",
        " \n",
        "    print(\"initialize_model parameters:\")\n",
        "    print(\"model_name:\", f_model_name , \"use_pretrained:\", f_use_pretrained, \"feature_extract:\", f_feature_extract, \"chooseLong:\",f_chooseLong)\n",
        "\n",
        "    # Initialize these variables which will be set in this if statement. Each of these\n",
        "    #   variables is model specific.\n",
        "    f_model_ft = None\n",
        "    f_num_classes = 2 # normal. pneumonia\n",
        "    f_input_size = 0  # image size, e.g. (3, 224, 224)\n",
        "\n",
        "    if f_model_name == 'efficientnet-b0':\n",
        "        \"\"\" Efficientnet-b0\n",
        "        \"\"\"\n",
        "        f_model_ft = EfficientNet.from_pretrained(f_model_name)\n",
        "        set_parameter_requires_grad(f_model_ft, f_feature_extract)\n",
        "        # replace model classifier\n",
        "        num_ftrs = f_model_ft._fc.in_features \n",
        "\n",
        "        \n",
        "        if f_chooseLong == 0 :\n",
        "            print()\n",
        "      \n",
        "        elif f_chooseLong == 3 :\n",
        "            f_model_ft._fc = nn.Sequential(nn.Linear(num_ftrs, 512),   \n",
        "                                        nn.LeakyReLU(0.1),\n",
        "                                        nn.Dropout(0.25),   \n",
        "                                        nn.Linear(512, 128), \n",
        "                                        nn.LeakyReLU(0.1),  \n",
        "                                        nn.Linear(128, 64), \n",
        "                                        nn.LeakyReLU(0.1),                                        \n",
        "                                        nn.Linear(64,32),\n",
        "                                        nn.LeakyReLU(0.1),     \n",
        "                                        nn.Linear(32,f_num_classes))             \n",
        "\n",
        "    else:\n",
        "        raise NotImplementedError\n",
        "\n",
        "    return f_model_ft, f_input_size"
      ],
      "execution_count": 62,
      "outputs": []
    },
    {
      "cell_type": "code",
      "metadata": {
        "id": "VScP-4B5nLCE"
      },
      "source": [
        "def initialize_model_3_LeakyRelu_BatchNorm(f_model_name, f_use_pretrained, f_feature_extract, f_chooseLong = 3):\n",
        " \n",
        "    print(\"initialize_model parameters:\")\n",
        "    print(\"model_name:\", f_model_name , \"use_pretrained:\", f_use_pretrained, \"feature_extract:\", f_feature_extract, \"chooseLong:\",f_chooseLong)\n",
        "\n",
        "    # Initialize these variables which will be set in this if statement. Each of these\n",
        "    #   variables is model specific.\n",
        "    f_model_ft = None\n",
        "    f_num_classes = 2 # normal. pneumonia\n",
        "    f_input_size = 0  # image size, e.g. (3, 224, 224)\n",
        "\n",
        "    if f_model_name == 'efficientnet-b0':\n",
        "        \"\"\" Efficientnet-b0\n",
        "        \"\"\"\n",
        "        f_model_ft = EfficientNet.from_pretrained(f_model_name)\n",
        "        set_parameter_requires_grad(f_model_ft, f_feature_extract)\n",
        "        # replace model classifier\n",
        "        num_ftrs = f_model_ft._fc.in_features \n",
        "\n",
        "        \n",
        "        if f_chooseLong == 0 :\n",
        "            print()\n",
        "      \n",
        "        elif f_chooseLong == 3 :\n",
        "            f_model_ft._fc = nn.Sequential(nn.Linear(num_ftrs, 512),   \n",
        "                                        nn.LeakyReLU(0.1),\n",
        "                                        nn.Dropout(0.25),   \n",
        "                                        nn.Linear(512, 128), \n",
        "                                        nn.BatchNorm1d(128),\n",
        "                                        nn.LeakyReLU(0.1),  \n",
        "                                        nn.Linear(128, 64), \n",
        "                                        nn.LeakyReLU(0.1),                                        \n",
        "                                        nn.Linear(64,32),\n",
        "                                        nn.BatchNorm1d(32), \n",
        "                                        nn.LeakyReLU(0.1),     \n",
        "                                        nn.Linear(32,f_num_classes))             \n",
        "\n",
        "    else:\n",
        "        raise NotImplementedError\n",
        "\n",
        "    return f_model_ft, f_input_size"
      ],
      "execution_count": 63,
      "outputs": []
    },
    {
      "cell_type": "markdown",
      "metadata": {
        "id": "4R70vEMzsUCE"
      },
      "source": [
        "## val_phase()"
      ]
    },
    {
      "cell_type": "code",
      "metadata": {
        "id": "6Eh2w6Uqoebc"
      },
      "source": [
        "# torch.no_grad() impacts the autograd engine and deactivate it. \n",
        "#       It will reduce memory usage and speed up computations but we won’t be able to backprop \n",
        "#       (which we don’t want in an evaluation phase).\n",
        "@torch.no_grad()\n",
        "def val_phase(f_model, f_dataloader, f_criterion, f_device):\n",
        "    \"\"\"\n",
        "    NOTE: use @torch.no_grad() as a decorator\n",
        "    Args: \n",
        "        f_model - the model we validate\n",
        "        f_dataloader - dataloader for valdation dataset\n",
        "        f_device - device to use\n",
        "\n",
        "    RETURN:\n",
        "        epoch_loss\n",
        "        epoch_acc\n",
        "        PerformanceMetrics = {'precision', 'recall', 'f1'}\n",
        "    \"\"\"\n",
        "    # model.eval() set specific layers like dropout and batchnorm to evaluation mode \n",
        "    #       while model.train() will enable them.  \n",
        "\n",
        "    f_model.eval()                            # Set model to training mode\n",
        "\n",
        "    num_classes = 2\n",
        "    num_samples = len(f_dataloader.dataset)     \n",
        "\n",
        "    running_loss = 0.0\n",
        "    running_corrects = 0\n",
        "    confusion_matrix = np.zeros([num_classes,num_classes], int)\n",
        "\n",
        "    # Iterate over data.\n",
        "    for inputs, labels in f_dataloader:       # get the data\n",
        "        inputs = inputs.to(f_device)          # send to device\n",
        "        labels = labels.to(f_device)          # send to device  \n",
        "        # forward\n",
        "        # with torch.set_grad_enabled(phase == 'train'): #(allready use @torch.no_grad() as a decorator)\n",
        "            # Get model outputs and calculate loss\n",
        "        outputs = f_model(inputs)         \n",
        "        loss = f_criterion(outputs, labels)\n",
        "        _, preds = torch.max(outputs, 1)\n",
        "\n",
        "\n",
        "        running_loss += loss.item() * inputs.size(0)    # loss.item() = (losses for entire batch)/ batchSize\n",
        "        running_corrects += torch.sum(preds == labels.data)\n",
        "\n",
        "        for i, l in enumerate(labels):\n",
        "            confusion_matrix[l.item(), preds[i].item()] += 1 \n",
        "\n",
        "    # Compute regular Performance\n",
        "    epoch_loss = running_loss / len(f_dataloader.dataset) \n",
        "    epoch_acc = running_corrects.double() / len(f_dataloader.dataset)       \n",
        "\n",
        "    # Compute Performance Metrics    \n",
        "    tn, fp, fn, tp = confusion_matrix.ravel()\n",
        "    precision = tp/(tp+fp)\n",
        "    recall = tp/(tp+fn)\n",
        "    f1 = 2*((precision*recall)/(precision+recall))   \n",
        "    PerformanceMetrics = {'precision': precision, 'recall': recall, 'f1': f1}    \n",
        "\n",
        "    return epoch_loss, epoch_acc, PerformanceMetrics\n"
      ],
      "execution_count": 64,
      "outputs": []
    },
    {
      "cell_type": "markdown",
      "metadata": {
        "id": "P5EC8jLkRn0l"
      },
      "source": [
        "## train_model()"
      ]
    },
    {
      "cell_type": "code",
      "metadata": {
        "id": "WY4VGox1Egck"
      },
      "source": [
        "\"\"\"\n",
        "Training function\n",
        "\"\"\"\n",
        "def train_model(f_model, f_train_dl, f_val_dl, f_criterion, f_optimizer, f_num_epochs, f_device):\n",
        "    \"\"\" \n",
        "    train_model\n",
        "    Args:\n",
        "        f_model - the model we train \n",
        "        f_train_dl - train dataloader\n",
        "        f_val_dl - validation dataloader\n",
        "        f_criterion - loss function\n",
        "        f_optimizer - Optimizer for weight updates\n",
        "        f_num_epochs - number of efochs for the train\n",
        "\n",
        "    this is the main function to train the model.\n",
        "    Each epoch has a training and validation phase.\n",
        "    Save the model when the loss improve (smaller)\n",
        "\n",
        "    Returns:    \n",
        "        f_model - the trained model, when the model achive the best loss (the smaller)\n",
        "        f_history - {'train_loss','train_acc','val_loss','val_acc'}\n",
        "    \"\"\"\n",
        "    # intializations:\n",
        "    since = time.time()\n",
        "\n",
        "    train_loss_history = []\n",
        "    train_acc_history = []\n",
        "    val_loss_history = []\n",
        "    val_acc_history = []\n",
        "    history = {'train_loss': train_loss_history,'train_acc': train_acc_history,\n",
        "               'val_loss': val_loss_history,'val_acc': val_acc_history}\n",
        "\n",
        "    best_model_wts = copy.deepcopy(f_model.state_dict())\n",
        "    best_acc = 0.0\n",
        "    best_loss = 1.0                                     # use for saving the best model.\n",
        "\n",
        "    for epoch in range(f_num_epochs):\n",
        "        epochSince = time.time()\n",
        "        logEpoch = 'Epoch {}/{} |'.format(epoch, f_num_epochs - 1)\n",
        "        # Each epoch has a training and validation phase\n",
        "        for phase in ['train', 'val']:\n",
        "            if phase == 'train':\n",
        "                # model.eval() set specific layers like dropout and batchnorm to evaluation mode \n",
        "                #       (dropout won’t drop activations, batchnorm will use running estimates instead of batch statistics) \n",
        "                #       while model.train() will enable them.\n",
        "                f_model.train()                         # Set model to training mode\n",
        "                running_loss = 0.0\n",
        "                running_corrects = 0\n",
        "                # Iterate over data.\n",
        "                for inputs, labels in f_train_dl:       # get the data\n",
        "                    inputs = inputs.to(f_device)          # send to device\n",
        "                    labels = labels.to(f_device)          # send to device  \n",
        "                    # forward\n",
        "                    # track history if only in train\n",
        "                    with torch.set_grad_enabled(phase == 'train'):\n",
        "                        # Get model outputs and calculate loss\n",
        "                        outputs = f_model(inputs)         \n",
        "                        loss = f_criterion(outputs, labels)\n",
        "\n",
        "                        _, preds = torch.max(outputs, 1)\n",
        "                        # backward + optimize only if in training phase\n",
        "                        # zero the parameter gradients\n",
        "                        f_optimizer.zero_grad()           \n",
        "                        loss.backward()\n",
        "                        f_optimizer.step()\n",
        "                    # collect statistics\n",
        "                    running_loss += loss.item() * inputs.size(0)\n",
        "                    running_corrects += torch.sum(preds == labels.data)\n",
        "                # epoch statistics\n",
        "                epoch_loss_train = running_loss / len(f_train_dl.dataset)\n",
        "                epoch_acc_train = running_corrects.double() / len(f_train_dl.dataset)  \n",
        "                # log\n",
        "                logTrain = \"Train Loss: {:.4f} | Train Acc: {:.4f} |\".format(epoch_loss_train, epoch_acc_train)\n",
        "                # append statistics to history for later use:\n",
        "                history['train_loss'].append(epoch_loss_train)\n",
        "                history['train_acc'].append(epoch_acc_train)               \n",
        "\n",
        "            if phase == 'val':\n",
        "                epoch_loss_val, epoch_acc_val, Performance = val_phase(f_model, f_val_dl, f_criterion, f_device)\n",
        "                # log\n",
        "                logVal = \"Val Loss: {:.4f} | Val Acc: {:.4f} |\".format(epoch_loss_val, epoch_acc_val)\n",
        "                logValPerformance = \" recall: {:.3f} | precision: {:.3f} | f1: {:.3f} |\".format(Performance['recall'],Performance['precision'],Performance['f1'])\n",
        "                # append statistics to history for later use:\n",
        "                history['val_loss'].append(epoch_loss_val)\n",
        "                history['val_acc'].append(epoch_acc_val)\n",
        "\n",
        "                \n",
        "                # deep copy the model\n",
        "                if ( epoch_acc_val > best_acc):         #TODO: maybe change condition to fromm acc to loss            \n",
        "                    best_acc = epoch_acc_val\n",
        "                    val_when_best_acc = epoch_loss_val\n",
        "                    epoch_when_best_acc = epoch\n",
        "                    best_model_wts = copy.deepcopy(f_model.state_dict())\n",
        "                \"\"\"\n",
        "                # deep copy the model\n",
        "                if ( epoch_loss_val < best_loss):         #TODO: maybe change condition to fromm acc to loss            \n",
        "                    best_loss = epoch_loss_val\n",
        "                    acc_when_best_loss = epoch_acc_val\n",
        "                    epoch_when_best_loss = epoch\n",
        "                    best_model_wts = copy.deepcopy(f_model.state_dict())\n",
        "                \"\"\"    \n",
        "\n",
        "                   \n",
        "        # log\n",
        "        epoch_time_elapsed = time.time() - epochSince\n",
        "        logTime = 'Epoch Time: {:}'.format(epoch_time_elapsed)\n",
        "        log = logEpoch + logTrain + logVal + logValPerformance + logTime\n",
        "        print(log)\n",
        "\n",
        "\n",
        "        ####  finish epoch  ####\n",
        "    ####  finish train ####\n",
        "    time_elapsed = time.time() - since\n",
        "    print('Training complete in {:.0f}m {:.0f}s'.format(time_elapsed // 60, time_elapsed % 60))\n",
        "    print('Best val acc: {:4f} where val loss: {:4f} at epoch: {:} '.format(best_acc,val_when_best_acc,epoch_when_best_acc))\n",
        "    #print('Best val loss: {:4f} where val acc: {:4f} at epoch: {:} '.format(best_loss,acc_when_best_loss,epoch_when_best_loss))\n",
        "\n",
        "\n",
        "    # load best model weights\n",
        "    f_model.load_state_dict(best_model_wts)\n",
        "    return f_model, history"
      ],
      "execution_count": 65,
      "outputs": []
    },
    {
      "cell_type": "code",
      "metadata": {
        "id": "45c4lANYL-IL"
      },
      "source": [
        "\"\"\"\n",
        "Training function\n",
        "\"\"\"\n",
        "def train_model_with_scheduler(f_model, f_train_dl, f_val_dl, f_criterion, f_optimizer, f_scheduler, f_num_epochs, f_device):\n",
        "    \"\"\" \n",
        "    train_model\n",
        "    Args:\n",
        "        f_model - the model we train \n",
        "        f_train_dl - train dataloader\n",
        "        f_val_dl - validation dataloader\n",
        "        f_criterion - loss function\n",
        "        f_optimizer - Optimizer for weight updates\n",
        "        f_num_epochs - number of efochs for the train\n",
        "\n",
        "    this is the main function to train the model.\n",
        "    Each epoch has a training and validation phase.\n",
        "    Save the model when the loss improve (smaller)\n",
        "\n",
        "    Returns:    \n",
        "        f_model - the trained model, when the model achive the best loss (the smaller)\n",
        "        f_history - {'train_loss','train_acc','val_loss','val_acc'}\n",
        "    \"\"\"\n",
        "    # intializations:\n",
        "    since = time.time()\n",
        "\n",
        "    train_loss_history = []\n",
        "    train_acc_history = []\n",
        "    val_loss_history = []\n",
        "    val_acc_history = []\n",
        "    history = {'train_loss': train_loss_history,'train_acc': train_acc_history,\n",
        "               'val_loss': val_loss_history,'val_acc': val_acc_history}\n",
        "\n",
        "    best_model_wts = copy.deepcopy(f_model.state_dict())\n",
        "    best_acc = 0.0\n",
        "    best_loss = 1.0                                     # use for saving the best model.\n",
        "\n",
        "    for epoch in range(f_num_epochs):\n",
        "        epochSince = time.time()\n",
        "        logEpoch = 'Epoch {}/{} |'.format(epoch, f_num_epochs - 1)\n",
        "        # Each epoch has a training and validation phase\n",
        "        for phase in ['train', 'val']:\n",
        "            if phase == 'train':\n",
        "                # model.eval() set specific layers like dropout and batchnorm to evaluation mode \n",
        "                #       (dropout won’t drop activations, batchnorm will use running estimates instead of batch statistics) \n",
        "                #       while model.train() will enable them.\n",
        "                f_model.train()                         # Set model to training mode\n",
        "                running_loss = 0.0\n",
        "                running_corrects = 0\n",
        "                # Iterate over data.\n",
        "                for inputs, labels in f_train_dl:       # get the data\n",
        "                    inputs = inputs.to(f_device)          # send to device\n",
        "                    labels = labels.to(f_device)          # send to device  \n",
        "                    # forward\n",
        "                    # track history if only in train\n",
        "                    with torch.set_grad_enabled(phase == 'train'):\n",
        "                        # Get model outputs and calculate loss\n",
        "                        outputs = f_model(inputs)         \n",
        "                        loss = f_criterion(outputs, labels)\n",
        "\n",
        "                        _, preds = torch.max(outputs, 1)\n",
        "                        # backward + optimize only if in training phase\n",
        "                        # zero the parameter gradients\n",
        "                        f_optimizer.zero_grad()           \n",
        "                        loss.backward()\n",
        "                        f_optimizer.step()\n",
        "                    # collect statistics\n",
        "                    running_loss += loss.item() * inputs.size(0)\n",
        "                    running_corrects += torch.sum(preds == labels.data)\n",
        "                # epoch statistics\n",
        "                epoch_loss_train = running_loss / len(f_train_dl.dataset)\n",
        "                epoch_acc_train = running_corrects.double() / len(f_train_dl.dataset)  \n",
        "                # log\n",
        "                logTrain = \"Train Loss: {:.4f} | Train Acc: {:.4f} |\".format(epoch_loss_train, epoch_acc_train)\n",
        "                # append statistics to history for later use:\n",
        "                history['train_loss'].append(epoch_loss_train)\n",
        "                history['train_acc'].append(epoch_acc_train)               \n",
        "\n",
        "            if phase == 'val':\n",
        "                epoch_loss_val, epoch_acc_val, Performance = val_phase(f_model, f_val_dl, f_criterion, f_device)\n",
        "                # log\n",
        "                logVal = \"Val Loss: {:.4f} | Val Acc: {:.4f} |\".format(epoch_loss_val, epoch_acc_val)\n",
        "                logValPerformance = \" recall: {:.3f} | precision: {:.3f} | f1: {:.3f} |\".format(Performance['recall'],Performance['precision'],Performance['f1'])\n",
        "                # append statistics to history for later use:\n",
        "                history['val_loss'].append(epoch_loss_val)\n",
        "                history['val_acc'].append(epoch_acc_val)\n",
        "\n",
        "                \n",
        "                # deep copy the model\n",
        "                if ( epoch_acc_val > best_acc):         #TODO: maybe change condition to fromm acc to loss            \n",
        "                    best_acc = epoch_acc_val\n",
        "                    val_when_best_acc = epoch_loss_val\n",
        "                    epoch_when_best_acc = epoch\n",
        "                    best_model_wts = copy.deepcopy(f_model.state_dict())\n",
        "                \"\"\"\n",
        "                # deep copy the model\n",
        "                if ( epoch_loss_val < best_loss):         #TODO: maybe change condition to fromm acc to loss            \n",
        "                    best_loss = epoch_loss_val\n",
        "                    acc_when_best_loss = epoch_acc_val\n",
        "                    epoch_when_best_loss = epoch\n",
        "                    best_model_wts = copy.deepcopy(f_model.state_dict())\n",
        "                \"\"\"    \n",
        "\n",
        "                   \n",
        "        # log\n",
        "        epoch_time_elapsed = time.time() - epochSince\n",
        "        logTime = 'Epoch Time: {:}'.format(epoch_time_elapsed)\n",
        "        log = logEpoch + logTrain + logVal + logValPerformance + logTime\n",
        "        print(log)\n",
        "\n",
        "        f_scheduler.step(epoch_acc_val)  # loss is used to track down a plateau\n",
        "\n",
        "        ####  finish epoch  ####\n",
        "    ####  finish train ####\n",
        "    time_elapsed = time.time() - since\n",
        "    print('Training complete in {:.0f}m {:.0f}s'.format(time_elapsed // 60, time_elapsed % 60))\n",
        "    print('Best val acc: {:4f} where val loss: {:4f} at epoch: {:} '.format(best_acc,val_when_best_acc,epoch_when_best_acc))\n",
        "    #print('Best val loss: {:4f} where val acc: {:4f} at epoch: {:} '.format(best_loss,acc_when_best_loss,epoch_when_best_loss))\n",
        "\n",
        "\n",
        "    # load best model weights\n",
        "    f_model.load_state_dict(best_model_wts)\n",
        "    return f_model, history"
      ],
      "execution_count": 66,
      "outputs": []
    },
    {
      "cell_type": "markdown",
      "metadata": {
        "id": "cGSqjwt-eZZ0"
      },
      "source": [
        "## test_model()"
      ]
    },
    {
      "cell_type": "code",
      "metadata": {
        "id": "lhLioUm7cI1K"
      },
      "source": [
        "@torch.no_grad()\n",
        "def test_model(f_model, f_dataloader, f_device, showCM = False):\n",
        "    \"\"\"\n",
        "    NOTE: use @torch.no_grad() as a decorator\n",
        "    Args: \n",
        "        f_model - the model we test \n",
        "        f_dataloader - dataloader for test dataset\n",
        "        f_device - device to use\n",
        "        showCM - choose to plot confusion_matrix, default False\n",
        "    RETURN: PerformanceMetrics = {'accuracy','precision', 'recall', 'f1'}\n",
        "    \"\"\"\n",
        "    # model.eval() set specific layers like dropout and batchnorm to evaluation mode \n",
        "    #       while model.train() will enable them.  \n",
        "    f_model.eval() # put in evaluation mode \n",
        "\n",
        "    num_classes = 2\n",
        "    num_samples = len(f_dataloader.dataset)\n",
        "    # print(\"DEBUG:test_model->number_of_samples= \", num_samples)\n",
        "    running_corrects = 0.0                                  \n",
        "    confusion_matrix = np.zeros([num_classes,num_classes], int)\n",
        "    # Iterate over data.\n",
        "    for inputs, labels in f_dataloader:       # get the data\n",
        "        inputs = inputs.to(f_device)          # send to device\n",
        "        labels = labels.to(f_device)          # send to device  \n",
        "        # forward\n",
        "        outputs = f_model(inputs)                    \n",
        "        _, preds = torch.max(outputs.data, 1)    \n",
        "        # collect statistics\n",
        "        running_corrects += (preds == labels).sum().item() \n",
        "        for i, l in enumerate(labels):\n",
        "            confusion_matrix[l.item(), preds[i].item()] += 1 \n",
        "    \n",
        "    # Compute regular Performance\n",
        "    epoch_acc = running_corrects / num_samples         \n",
        "    # Compute Performance Metrics    \n",
        "    tn, fp, fn, tp = confusion_matrix.ravel()\n",
        "    precision = tp/(tp+fp)\n",
        "    recall = tp/(tp+fn)\n",
        "    f1 = 2*((precision*recall)/(precision+recall))   \n",
        "    # Performance:\n",
        "    PerformanceMetrics = {'accuracy': epoch_acc, 'precision': precision, 'recall': recall, 'f1': f1}\n",
        "\n",
        "    if showCM == True :\n",
        "        # plot confusion matrix\n",
        "        plt.figure()\n",
        "        plot_confusion_matrix(confusion_matrix,figsize=(12,8),cmap=plt.cm.Blues)\n",
        "        plt.xticks(range(2), ['Normal', 'Pneumonia'], fontsize=16)\n",
        "        plt.yticks(range(2), ['Normal', 'Pneumonia'], fontsize=16)\n",
        "        plt.xlabel('Predicted Label',fontsize=18)\n",
        "        plt.ylabel('True Label',fontsize=18)\n",
        "        plt.show()\n",
        "\n",
        "    return PerformanceMetrics"
      ],
      "execution_count": 67,
      "outputs": []
    },
    {
      "cell_type": "markdown",
      "metadata": {
        "id": "r_y4uqRtRHcv"
      },
      "source": [
        "# Test Data Preparations\n",
        "> preparing the test dataset, create test dataloader, and print some information"
      ]
    },
    {
      "cell_type": "code",
      "metadata": {
        "colab": {
          "base_uri": "https://localhost:8080/",
          "height": 615
        },
        "id": "hZemNZxz3LTR",
        "outputId": "c514e4c3-95de-4893-977c-f065394ef1a7"
      },
      "source": [
        "\"\"\" preparing the test dataset, create test dataloader, and print some information\n",
        "\"\"\" \n",
        "\n",
        "data_dir = '/content/drive/MyDrive/DL/project_ariel_yael/pneumonia/dataset'\n",
        "\n",
        "pneumonia_files_test = os.listdir(data_dir + \"/test\" + \"/PNEUMONIA\")\n",
        "print('No. of test examples for Pneumonia:', len(pneumonia_files_test))\n",
        "normal_files_test = os.listdir(data_dir + \"/test\" + \"/NORMAL\")\n",
        "print('No. of test examples for Normal:', len(normal_files_test))\n",
        "\n",
        "# define pre-processing steps on images\n",
        "data_transorm_test = tt.Compose([tt.Resize(255),\n",
        "                              tt.CenterCrop(224),                                                              \n",
        "                              tt.ToTensor() \n",
        "                              ])\n",
        "\n",
        "# create test dataset:\n",
        "dataset_test = ImageFolder(data_dir + \"/test\", data_transorm_test)\n",
        "print(\"classes in test dataset:\",dataset_test.classes,\"\\n\")\n",
        "print(\"test dataset:\",\"\\n\")\n",
        "print(dataset_test)\n",
        "\n",
        "# number of images for each class\n",
        "test_samplesize = pd.DataFrame.from_dict(\n",
        "    {'Normal': [len([os.path.join(data_dir+'/test/NORMAL', filename) \n",
        "                     for filename in os.listdir(data_dir+'/test/NORMAL')])], \n",
        "     'Pneumonia': [len([os.path.join(data_dir+'/test/PNEUMONIA', filename) \n",
        "                        for filename in os.listdir(data_dir+'/test/PNEUMONIA')])]})\n",
        "\n",
        "sns.barplot(data=test_samplesize).set_title('Testing Set Data Inbalance', fontsize=20)\n",
        "plt.show()\n",
        "\n",
        "\n",
        "# create dataloaders\n",
        "batch_size_test=128\n",
        "test_ds = dataset_test                     # just for consistency with the train,val name\n",
        "print()\n",
        "print(\"number of samples in dataset:\")\n",
        "print(\"\\t\", \"train_ds:\", len(train_ds), \"val_ds:\", len(val_ds)) \n",
        "print(\"\\t\", \"test_ds:\", len(test_ds))\n",
        "\n",
        "test_dataloader = DataLoader(test_ds, batch_size=batch_size_test, shuffle=False)"
      ],
      "execution_count": 68,
      "outputs": [
        {
          "output_type": "stream",
          "text": [
            "No. of test examples for Pneumonia: 390\n",
            "No. of test examples for Normal: 234\n",
            "classes in test dataset: ['NORMAL', 'PNEUMONIA'] \n",
            "\n",
            "test dataset: \n",
            "\n",
            "Dataset ImageFolder\n",
            "    Number of datapoints: 624\n",
            "    Root location: /content/drive/MyDrive/DL/project_ariel_yael/pneumonia/dataset/test\n",
            "    StandardTransform\n",
            "Transform: Compose(\n",
            "               Resize(size=255, interpolation=bilinear, max_size=None, antialias=None)\n",
            "               CenterCrop(size=(224, 224))\n",
            "               ToTensor()\n",
            "           )\n"
          ],
          "name": "stdout"
        },
        {
          "output_type": "display_data",
          "data": {
            "image/png": "[encoded data removed]",
            "text/plain": [
              "<Figure size 432x288 with 1 Axes>"
            ]
          },
          "metadata": {
            "tags": [],
            "needs_background": "light"
          }
        },
        {
          "output_type": "stream",
          "text": [
            "\n",
            "number of samples in dataset:\n",
            "\t train_ds: 4173 val_ds: 1043\n",
            "\t test_ds: 624\n"
          ],
          "name": "stdout"
        }
      ]
    },
    {
      "cell_type": "markdown",
      "metadata": {
        "id": "wrjDIBDGSion"
      },
      "source": [
        "# Train and Evaluate Model"
      ]
    },
    {
      "cell_type": "markdown",
      "metadata": {
        "id": "nnLuu-WQs3_y"
      },
      "source": [
        "## hyperparameters"
      ]
    },
    {
      "cell_type": "code",
      "metadata": {
        "id": "xrW6C9Ti22sW"
      },
      "source": [
        "\"\"\"parameters for the model intialization\n",
        "\"\"\"\n",
        "# Models to choose from [resnet, alexnet, vgg, squeezenet, densenet]\n",
        "#       used when we tested different models.\n",
        "#       model_name_options = ['efficientnet-b0', 'resnet', 'alexnet', 'vgg', 'squeezenet', 'densenet']\n",
        "model_name = 'efficientnet-b0'\n",
        "\n",
        "# Use pretrained model\n",
        "use_pretrained=True\n",
        "\n",
        "# Flag for feature extracting. When False, we fine-tune the whole model,\n",
        "#       when True we only update the reshaped layer params\n",
        "feature_extract = True\n",
        "\n",
        "# depth of model for efficientNets\n",
        "#       used when we tested different versions.\n",
        "versionLongefficientNets_options = [0,1,2,3,4]\n",
        "versionLong = 1\n",
        "\n",
        "\"\"\"parameters for model training:\n",
        "\"\"\"\n",
        "# Number of epochs to train for\n",
        "num_epochs = 50\n",
        "\n",
        "# learning rate:\n",
        "#       used when we tested different learning rates.\n",
        "#       learning_rate_options = [0.01, 0.001, 0.0001]\n",
        "learning_rate = 0.001\n",
        "\n",
        "# Setup the loss fn\n",
        "#       weighted loss for data class imbalance\n",
        "class_weight = torch.FloatTensor([3876/(1342+3876), 1342/(1342+3876)])\n",
        "criterion_ft = nn.CrossEntropyLoss(weight=class_weight).to(device)"
      ],
      "execution_count": 69,
      "outputs": []
    },
    {
      "cell_type": "markdown",
      "metadata": {
        "id": "MTL21GXKMZ2H"
      },
      "source": [
        "## TMP SPLIT"
      ]
    },
    {
      "cell_type": "markdown",
      "metadata": {
        "id": "vEptbRy8mgVU"
      },
      "source": [
        "### 1"
      ]
    },
    {
      "cell_type": "code",
      "metadata": {
        "colab": {
          "base_uri": "https://localhost:8080/",
          "height": 52
        },
        "id": "DXEyO2DBoIb2",
        "outputId": "0fdebbde-53cc-4366-ae25-9e0943619d48"
      },
      "source": [
        "\n",
        "\"\"\"\n",
        "try 3 versions for comersion:\n",
        "    initialize_model_3_relu\n",
        "    initialize_model_3_LeakyRelu_noBatchNorm\n",
        "    initialize_model_3_LeakyRelu_BatchNorm\n",
        "    initialize_model_3_LeakyRelu_BatchNorm + scheduler\n",
        "\"\"\""
      ],
      "execution_count": 70,
      "outputs": [
        {
          "output_type": "execute_result",
          "data": {
            "application/vnd.google.colaboratory.intrinsic+json": {
              "type": "string"
            },
            "text/plain": [
              "'\\ntry 3 versions for comersion:\\n    initialize_model_3_relu\\n    initialize_model_3_LeakyRelu_noBatchNorm\\n    initialize_model_3_LeakyRelu_BatchNorm\\n    initialize_model_3_LeakyRelu_BatchNorm + scheduler\\n'"
            ]
          },
          "metadata": {
            "tags": []
          },
          "execution_count": 70
        }
      ]
    },
    {
      "cell_type": "markdown",
      "metadata": {
        "id": "9XZ8cJQQCzsQ"
      },
      "source": [
        "## initialize_model_3_relu"
      ]
    },
    {
      "cell_type": "code",
      "metadata": {
        "id": "KxgVR57KDK1h",
        "colab": {
          "base_uri": "https://localhost:8080/",
          "height": 1000
        },
        "outputId": "602ca4ad-90bd-45bf-f8b1-f8dd46d551d0"
      },
      "source": [
        "idx = 0\n",
        "for versionLong in [3]:\n",
        "    idx = idx + 1\n",
        "    \"\"\"Initialize the model for this run\n",
        "    \"\"\"\n",
        "    model_ft, _ = initialize_model_3_relu(model_name, use_pretrained, feature_extract, versionLong)\n",
        "\n",
        "    # Print the model we just instantiated\n",
        "    # print(model_ft) # shutdown whhile working\n",
        "\n",
        "    model_ft = model_ft.to(device)\n",
        "    print()\n",
        "    \"\"\"Create the Optimizer\n",
        "    \"\"\"\n",
        "\n",
        "    # list of parameters to be optimized. check out the printed parameters to learn!\n",
        "    params_to_update = gather_params_to_update(model_ft, feature_extract)\n",
        "    # Observe that all parameters are being optimized\n",
        "    optimizer_ft = torch.optim.Adam(params_to_update, lr=learning_rate)\n",
        "\n",
        "\n",
        "    # log:\n",
        "    logParametersForTrain = \"idx:{} model:{} versionLong:{} lr:{}\".format(idx,model_name,versionLong,learning_rate)\n",
        "    print(logParametersForTrain)\n",
        "    print()\n",
        "\n",
        "    \"\"\"####################  Train and evaluate  ####################\n",
        "    \"\"\"\n",
        "    model_ft, history_ft = train_model(model_ft, train_dataloader, val_dataloader, criterion_ft, optimizer_ft, num_epochs, device)\n",
        "    print()\n",
        "\n",
        "    \"\"\"save training\n",
        "    \"\"\"\n",
        "    timeToSave = getDateTimeString()\n",
        "    checkpoint_dir = '/content/drive/MyDrive/DL/project_ariel_yael/pneumonia/checkpoints_pneumonia_ACC_COND'\n",
        "    checkpoint_model_path = checkpoint_dir + '/' + logParametersForTrain + timeToSave + '__ckpt.pth'\n",
        "    checkpoint_hist_path = checkpoint_dir + '/' + logParametersForTrain + timeToSave + '__hist.pth'\n",
        "    print('==> Saving model ...')\n",
        "    print(\"checkpoint_dir:\", checkpoint_dir)\n",
        "    print(\"checkpoint_model_path:\", checkpoint_model_path)\n",
        "    print(\"checkpoint_hist_path:\" , checkpoint_hist_path)\n",
        "\n",
        "    state_save = {\n",
        "        'net': model_ft.state_dict(),\n",
        "    }\n",
        "    if not os.path.isdir(checkpoint_dir):\n",
        "        os.mkdir(checkpoint_dir)\n",
        "    torch.save(state_save, checkpoint_model_path)\n",
        "    torch.save(history_ft, checkpoint_hist_path)\n",
        "    print()\n",
        "\n",
        "    \"\"\"Plot\n",
        "    \"\"\"\n",
        "    # Plot Accuracy and Loss \n",
        "    print(logParametersForTrain)\n",
        "    plot_acc_and_loss_for_train_and_val(history_ft)\n",
        "    print() \n",
        "    \"\"\"####################        Test         ####################\n",
        "    \"\"\"\n",
        "    # Initialize the model for this run\n",
        "    model_for_test, _ = initialize_model_3_relu(model_name, use_pretrained, feature_extract, versionLong)\n",
        "    print()\n",
        "    model_for_test = model_for_test.to(device)\n",
        "    state_load = torch.load(checkpoint_model_path, map_location=device)\n",
        "    model_for_test.load_state_dict(state_load['net'])\n",
        "    print()\n",
        "    # Test\n",
        "    Performance_test = test_model(model_for_test, test_dataloader, device, True)\n",
        "    print()\n",
        "    # Print statisitcs\n",
        "    print(\"test accuracy: {:.3f}\".format(Performance_test['accuracy']))\n",
        "    print(\"Recall of the model is {:.3f}\".format(Performance_test['recall']))\n",
        "    print(\"Precision of the model is {:.3f}\".format(Performance_test['precision']))\n",
        "    print(\"F1 Score of the model is {:.3f}\".format(Performance_test['f1']))\n",
        "    print()\n",
        "    \"\"\"save testing\n",
        "    \"\"\"\n",
        "    timeToSave = getDateTimeString()\n",
        "    checkpoint_dir = '/content/drive/MyDrive/DL/project_ariel_yael/pneumonia/checkpoints_pneumonia_ACC_COND'\n",
        "    checkpoint_test_path = checkpoint_dir + '/' + logParametersForTrain + timeToSave + '__test_performance.pth'\n",
        "    print('==> Saving test results ...')\n",
        "    print(\"checkpoint_dir:\", checkpoint_dir)\n",
        "    print(\"checkpoint_test_path:\", checkpoint_test_path)\n",
        "\n",
        "    torch.save(Performance_test, checkpoint_test_path)\n",
        "\n",
        "    print()\n",
        "    print(\"##################################################################################\")"
      ],
      "execution_count": 71,
      "outputs": [
        {
          "output_type": "stream",
          "text": [
            "initialize_model parameters:\n",
            "model_name: efficientnet-b0 use_pretrained: True feature_extract: True chooseLong: 3\n",
            "Loaded pretrained weights for efficientnet-b0\n",
            "\n",
            "Params to learn:\n",
            "\t _fc.0.weight\n",
            "\t _fc.0.bias\n",
            "\t _fc.3.weight\n",
            "\t _fc.3.bias\n",
            "\t _fc.5.weight\n",
            "\t _fc.5.bias\n",
            "\t _fc.7.weight\n",
            "\t _fc.7.bias\n",
            "\t _fc.9.weight\n",
            "\t _fc.9.bias\n",
            "idx:1 model:efficientnet-b0 versionLong:3 lr:0.001\n",
            "\n",
            "Epoch 0/49 |Train Loss: 0.2930 | Train Acc: 0.8893 |Val Loss: 1.6700 | Val Acc: 0.7603 | recall: 1.000 | precision: 0.760 | f1: 0.864 |Epoch Time: 427.61190962791443\n",
            "Epoch 1/49 |Train Loss: 0.1989 | Train Acc: 0.9164 |Val Loss: 1.5741 | Val Acc: 0.7718 | recall: 1.000 | precision: 0.769 | f1: 0.869 |Epoch Time: 78.9263756275177\n",
            "Epoch 2/49 |Train Loss: 0.1807 | Train Acc: 0.9260 |Val Loss: 0.5263 | Val Acc: 0.8802 | recall: 0.991 | precision: 0.869 | f1: 0.926 |Epoch Time: 79.08743977546692\n",
            "Epoch 3/49 |Train Loss: 0.1528 | Train Acc: 0.9413 |Val Loss: 0.5401 | Val Acc: 0.9003 | recall: 0.995 | precision: 0.887 | f1: 0.938 |Epoch Time: 79.61702489852905\n",
            "Epoch 4/49 |Train Loss: 0.1574 | Train Acc: 0.9365 |Val Loss: 0.2043 | Val Acc: 0.9367 | recall: 0.946 | precision: 0.970 | f1: 0.958 |Epoch Time: 79.05382919311523\n",
            "Epoch 5/49 |Train Loss: 0.1674 | Train Acc: 0.9300 |Val Loss: 0.1420 | Val Acc: 0.9463 | recall: 0.943 | precision: 0.985 | f1: 0.964 |Epoch Time: 79.23575973510742\n",
            "Epoch 6/49 |Train Loss: 0.1445 | Train Acc: 0.9408 |Val Loss: 0.1300 | Val Acc: 0.9473 | recall: 0.946 | precision: 0.984 | f1: 0.965 |Epoch Time: 79.44595885276794\n",
            "Epoch 7/49 |Train Loss: 0.1482 | Train Acc: 0.9408 |Val Loss: 0.1137 | Val Acc: 0.9501 | recall: 0.947 | precision: 0.987 | f1: 0.966 |Epoch Time: 79.76580810546875\n",
            "Epoch 8/49 |Train Loss: 0.1441 | Train Acc: 0.9427 |Val Loss: 0.1228 | Val Acc: 0.9511 | recall: 0.942 | precision: 0.993 | f1: 0.967 |Epoch Time: 78.87502813339233\n",
            "Epoch 9/49 |Train Loss: 0.1526 | Train Acc: 0.9415 |Val Loss: 0.1042 | Val Acc: 0.9607 | recall: 0.958 | precision: 0.990 | f1: 0.974 |Epoch Time: 79.59301042556763\n",
            "Epoch 10/49 |Train Loss: 0.1401 | Train Acc: 0.9432 |Val Loss: 0.1076 | Val Acc: 0.9578 | recall: 0.960 | precision: 0.984 | f1: 0.972 |Epoch Time: 79.6867938041687\n",
            "Epoch 11/49 |Train Loss: 0.1347 | Train Acc: 0.9468 |Val Loss: 0.1328 | Val Acc: 0.9473 | recall: 0.952 | precision: 0.978 | f1: 0.965 |Epoch Time: 79.49580001831055\n",
            "Epoch 12/49 |Train Loss: 0.1255 | Train Acc: 0.9466 |Val Loss: 0.1251 | Val Acc: 0.9511 | recall: 0.946 | precision: 0.989 | f1: 0.967 |Epoch Time: 80.2232928276062\n",
            "Epoch 13/49 |Train Loss: 0.1411 | Train Acc: 0.9439 |Val Loss: 0.0978 | Val Acc: 0.9578 | recall: 0.953 | precision: 0.991 | f1: 0.972 |Epoch Time: 80.02555060386658\n",
            "Epoch 14/49 |Train Loss: 0.1268 | Train Acc: 0.9535 |Val Loss: 0.1112 | Val Acc: 0.9626 | recall: 0.961 | precision: 0.990 | f1: 0.975 |Epoch Time: 80.1831464767456\n",
            "Epoch 15/49 |Train Loss: 0.1191 | Train Acc: 0.9480 |Val Loss: 0.1385 | Val Acc: 0.9578 | recall: 0.962 | precision: 0.982 | f1: 0.972 |Epoch Time: 79.75475263595581\n",
            "Epoch 16/49 |Train Loss: 0.1316 | Train Acc: 0.9480 |Val Loss: 0.1130 | Val Acc: 0.9569 | recall: 0.958 | precision: 0.984 | f1: 0.971 |Epoch Time: 79.84912443161011\n",
            "Epoch 17/49 |Train Loss: 0.1254 | Train Acc: 0.9518 |Val Loss: 0.1109 | Val Acc: 0.9530 | recall: 0.942 | precision: 0.996 | f1: 0.968 |Epoch Time: 79.7075765132904\n",
            "Epoch 18/49 |Train Loss: 0.1246 | Train Acc: 0.9523 |Val Loss: 0.1346 | Val Acc: 0.9444 | recall: 0.933 | precision: 0.993 | f1: 0.962 |Epoch Time: 80.1014552116394\n",
            "Epoch 19/49 |Train Loss: 0.1229 | Train Acc: 0.9535 |Val Loss: 0.1068 | Val Acc: 0.9588 | recall: 0.953 | precision: 0.992 | f1: 0.972 |Epoch Time: 79.36472272872925\n",
            "Epoch 20/49 |Train Loss: 0.1224 | Train Acc: 0.9526 |Val Loss: 0.1001 | Val Acc: 0.9559 | recall: 0.948 | precision: 0.993 | f1: 0.970 |Epoch Time: 79.79684376716614\n",
            "Epoch 21/49 |Train Loss: 0.1271 | Train Acc: 0.9499 |Val Loss: 0.1032 | Val Acc: 0.9578 | recall: 0.958 | precision: 0.986 | f1: 0.972 |Epoch Time: 79.70126056671143\n",
            "Epoch 22/49 |Train Loss: 0.1343 | Train Acc: 0.9473 |Val Loss: 0.1050 | Val Acc: 0.9530 | recall: 0.949 | precision: 0.988 | f1: 0.968 |Epoch Time: 79.9414005279541\n",
            "Epoch 23/49 |Train Loss: 0.1205 | Train Acc: 0.9516 |Val Loss: 0.1161 | Val Acc: 0.9367 | recall: 0.927 | precision: 0.989 | f1: 0.957 |Epoch Time: 79.54618072509766\n",
            "Epoch 24/49 |Train Loss: 0.1226 | Train Acc: 0.9538 |Val Loss: 0.1070 | Val Acc: 0.9655 | recall: 0.966 | precision: 0.988 | f1: 0.977 |Epoch Time: 80.32652544975281\n",
            "Epoch 25/49 |Train Loss: 0.1253 | Train Acc: 0.9559 |Val Loss: 0.0986 | Val Acc: 0.9530 | recall: 0.951 | precision: 0.987 | f1: 0.968 |Epoch Time: 80.29821920394897\n",
            "Epoch 26/49 |Train Loss: 0.1164 | Train Acc: 0.9514 |Val Loss: 0.1243 | Val Acc: 0.9453 | recall: 0.939 | precision: 0.988 | f1: 0.963 |Epoch Time: 80.04488015174866\n",
            "Epoch 27/49 |Train Loss: 0.1173 | Train Acc: 0.9518 |Val Loss: 0.1083 | Val Acc: 0.9616 | recall: 0.958 | precision: 0.991 | f1: 0.974 |Epoch Time: 79.95556426048279\n",
            "Epoch 28/49 |Train Loss: 0.1326 | Train Acc: 0.9461 |Val Loss: 0.1111 | Val Acc: 0.9597 | recall: 0.957 | precision: 0.990 | f1: 0.973 |Epoch Time: 79.9898750782013\n",
            "Epoch 29/49 |Train Loss: 0.1225 | Train Acc: 0.9499 |Val Loss: 0.1054 | Val Acc: 0.9626 | recall: 0.962 | precision: 0.988 | f1: 0.975 |Epoch Time: 79.99962544441223\n",
            "Epoch 30/49 |Train Loss: 0.1119 | Train Acc: 0.9581 |Val Loss: 0.0845 | Val Acc: 0.9655 | recall: 0.962 | precision: 0.992 | f1: 0.977 |Epoch Time: 80.31987476348877\n",
            "Epoch 31/49 |Train Loss: 0.1136 | Train Acc: 0.9576 |Val Loss: 0.1143 | Val Acc: 0.9636 | recall: 0.962 | precision: 0.990 | f1: 0.976 |Epoch Time: 80.0880196094513\n",
            "Epoch 32/49 |Train Loss: 0.1080 | Train Acc: 0.9523 |Val Loss: 0.1340 | Val Acc: 0.9540 | recall: 0.956 | precision: 0.983 | f1: 0.969 |Epoch Time: 79.7499930858612\n",
            "Epoch 33/49 |Train Loss: 0.1140 | Train Acc: 0.9492 |Val Loss: 0.1175 | Val Acc: 0.9367 | recall: 0.926 | precision: 0.991 | f1: 0.957 |Epoch Time: 80.71596312522888\n",
            "Epoch 34/49 |Train Loss: 0.1140 | Train Acc: 0.9526 |Val Loss: 0.1222 | Val Acc: 0.9664 | recall: 0.967 | precision: 0.988 | f1: 0.978 |Epoch Time: 80.27434659004211\n",
            "Epoch 35/49 |Train Loss: 0.0933 | Train Acc: 0.9619 |Val Loss: 0.1017 | Val Acc: 0.9597 | recall: 0.953 | precision: 0.993 | f1: 0.973 |Epoch Time: 80.3302149772644\n",
            "Epoch 36/49 |Train Loss: 0.1105 | Train Acc: 0.9569 |Val Loss: 0.1119 | Val Acc: 0.9482 | recall: 0.937 | precision: 0.995 | f1: 0.965 |Epoch Time: 80.54878616333008\n",
            "Epoch 37/49 |Train Loss: 0.1052 | Train Acc: 0.9581 |Val Loss: 0.1145 | Val Acc: 0.9559 | recall: 0.951 | precision: 0.991 | f1: 0.970 |Epoch Time: 80.29656934738159\n",
            "Epoch 38/49 |Train Loss: 0.1065 | Train Acc: 0.9571 |Val Loss: 0.1282 | Val Acc: 0.9444 | recall: 0.941 | precision: 0.985 | f1: 0.963 |Epoch Time: 80.81715154647827\n",
            "Epoch 39/49 |Train Loss: 0.1150 | Train Acc: 0.9552 |Val Loss: 0.0945 | Val Acc: 0.9645 | recall: 0.963 | precision: 0.990 | f1: 0.976 |Epoch Time: 80.67769813537598\n",
            "Epoch 40/49 |Train Loss: 0.1088 | Train Acc: 0.9569 |Val Loss: 0.1000 | Val Acc: 0.9712 | recall: 0.971 | precision: 0.991 | f1: 0.981 |Epoch Time: 80.76501965522766\n",
            "Epoch 41/49 |Train Loss: 0.1011 | Train Acc: 0.9597 |Val Loss: 0.0959 | Val Acc: 0.9607 | recall: 0.953 | precision: 0.995 | f1: 0.974 |Epoch Time: 81.07485127449036\n",
            "Epoch 42/49 |Train Loss: 0.1040 | Train Acc: 0.9571 |Val Loss: 0.1086 | Val Acc: 0.9636 | recall: 0.961 | precision: 0.991 | f1: 0.976 |Epoch Time: 80.6349663734436\n",
            "Epoch 43/49 |Train Loss: 0.1043 | Train Acc: 0.9624 |Val Loss: 0.1346 | Val Acc: 0.9684 | recall: 0.975 | precision: 0.983 | f1: 0.979 |Epoch Time: 80.95687675476074\n",
            "Epoch 44/49 |Train Loss: 0.1104 | Train Acc: 0.9552 |Val Loss: 0.1048 | Val Acc: 0.9636 | recall: 0.967 | precision: 0.985 | f1: 0.976 |Epoch Time: 81.11036658287048\n",
            "Epoch 45/49 |Train Loss: 0.0981 | Train Acc: 0.9614 |Val Loss: 0.1129 | Val Acc: 0.9530 | recall: 0.948 | precision: 0.989 | f1: 0.968 |Epoch Time: 80.12944722175598\n",
            "Epoch 46/49 |Train Loss: 0.1184 | Train Acc: 0.9511 |Val Loss: 0.1195 | Val Acc: 0.9367 | recall: 0.928 | precision: 0.988 | f1: 0.957 |Epoch Time: 80.5264196395874\n",
            "Epoch 47/49 |Train Loss: 0.1038 | Train Acc: 0.9581 |Val Loss: 0.1015 | Val Acc: 0.9655 | recall: 0.968 | precision: 0.986 | f1: 0.977 |Epoch Time: 80.52654767036438\n",
            "Epoch 48/49 |Train Loss: 0.1132 | Train Acc: 0.9590 |Val Loss: 0.1143 | Val Acc: 0.9559 | recall: 0.951 | precision: 0.991 | f1: 0.970 |Epoch Time: 80.68808913230896\n",
            "Epoch 49/49 |Train Loss: 0.1087 | Train Acc: 0.9540 |Val Loss: 0.1073 | Val Acc: 0.9578 | recall: 0.953 | precision: 0.991 | f1: 0.972 |Epoch Time: 80.28883194923401\n",
            "Training complete in 72m 30s\n",
            "Best val acc: 0.971237 where val loss: 0.100036 at epoch: 40 \n",
            "\n",
            "==> Saving model ...\n",
            "checkpoint_dir: /content/drive/MyDrive/DL/project_ariel_yael/pneumonia/checkpoints_pneumonia_ACC_COND\n",
            "checkpoint_model_path: /content/drive/MyDrive/DL/project_ariel_yael/pneumonia/checkpoints_pneumonia_ACC_COND/idx:1 model:efficientnet-b0 versionLong:3 lr:0.001time:2021-07-05_13:28__ckpt.pth\n",
            "checkpoint_hist_path: /content/drive/MyDrive/DL/project_ariel_yael/pneumonia/checkpoints_pneumonia_ACC_COND/idx:1 model:efficientnet-b0 versionLong:3 lr:0.001time:2021-07-05_13:28__hist.pth\n",
            "\n",
            "idx:1 model:efficientnet-b0 versionLong:3 lr:0.001\n",
            "\n",
            "initialize_model parameters:\n",
            "model_name: efficientnet-b0 use_pretrained: True feature_extract: True chooseLong: 3\n",
            "Loaded pretrained weights for efficientnet-b0\n",
            "\n",
            "\n"
          ],
          "name": "stdout"
        },
        {
          "output_type": "display_data",
          "data": {
            "image/png": "[encoded data removed]",
            "text/plain": [
              "<Figure size 1800x360 with 2 Axes>"
            ]
          },
          "metadata": {
            "tags": [],
            "needs_background": "light"
          }
        },
        {
          "output_type": "display_data",
          "data": {
            "text/plain": [
              "<Figure size 432x288 with 0 Axes>"
            ]
          },
          "metadata": {
            "tags": []
          }
        },
        {
          "output_type": "display_data",
          "data": {
            "image/png": "[encoded data removed]",
            "text/plain": [
              "<Figure size 864x576 with 1 Axes>"
            ]
          },
          "metadata": {
            "tags": [],
            "needs_background": "light"
          }
        },
        {
          "output_type": "stream",
          "text": [
            "\n",
            "test accuracy: 0.857\n",
            "Recall of the model is 0.979\n",
            "Precision of the model is 0.825\n",
            "F1 Score of the model is 0.896\n",
            "\n",
            "==> Saving test results ...\n",
            "checkpoint_dir: /content/drive/MyDrive/DL/project_ariel_yael/pneumonia/checkpoints_pneumonia_ACC_COND\n",
            "checkpoint_test_path: /content/drive/MyDrive/DL/project_ariel_yael/pneumonia/checkpoints_pneumonia_ACC_COND/idx:1 model:efficientnet-b0 versionLong:3 lr:0.001time:2021-07-05_13:31__test_performance.pth\n",
            "\n",
            "##################################################################################\n"
          ],
          "name": "stdout"
        }
      ]
    },
    {
      "cell_type": "markdown",
      "metadata": {
        "id": "zdDtsin7C1DG"
      },
      "source": [
        "## initialize_model_3_LeakyRelu_noBatchNorm"
      ]
    },
    {
      "cell_type": "code",
      "metadata": {
        "id": "ZQNcjaZjDLih",
        "colab": {
          "base_uri": "https://localhost:8080/",
          "height": 1000
        },
        "outputId": "84818993-dcb3-4b08-a8e2-d77f4b0ab09a"
      },
      "source": [
        "idx = 0\n",
        "for versionLong in [3]:\n",
        "    idx = idx + 1\n",
        "    \"\"\"Initialize the model for this run\n",
        "    \"\"\"\n",
        "    model_ft, _ = initialize_model_3_LeakyRelu_noBatchNorm(model_name, use_pretrained, feature_extract, versionLong)\n",
        "\n",
        "    # Print the model we just instantiated\n",
        "    # print(model_ft) # shutdown whhile working\n",
        "\n",
        "    model_ft = model_ft.to(device)\n",
        "    print()\n",
        "    \"\"\"Create the Optimizer\n",
        "    \"\"\"\n",
        "\n",
        "    # list of parameters to be optimized. check out the printed parameters to learn!\n",
        "    params_to_update = gather_params_to_update(model_ft, feature_extract)\n",
        "    # Observe that all parameters are being optimized\n",
        "    optimizer_ft = torch.optim.Adam(params_to_update, lr=learning_rate)\n",
        "\n",
        "    \n",
        "\n",
        "    # log:\n",
        "    logParametersForTrain = \"idx:{} model:{} versionLong:{} lr:{}\".format(idx,model_name,versionLong,learning_rate)\n",
        "    print(logParametersForTrain)\n",
        "    print()\n",
        "\n",
        "    \"\"\"####################  Train and evaluate  ####################\n",
        "    \"\"\"\n",
        "    model_ft, history_ft = train_model(model_ft, train_dataloader, val_dataloader, criterion_ft, optimizer_ft, num_epochs, device)\n",
        "    print()\n",
        "\n",
        "    \"\"\"save training\n",
        "    \"\"\"\n",
        "    timeToSave = getDateTimeString()\n",
        "    checkpoint_dir = '/content/drive/MyDrive/DL/project_ariel_yael/pneumonia/checkpoints_pneumonia_ACC_COND'\n",
        "    checkpoint_model_path = checkpoint_dir + '/' + logParametersForTrain + timeToSave + '__ckpt.pth'\n",
        "    checkpoint_hist_path = checkpoint_dir + '/' + logParametersForTrain + timeToSave + '__hist.pth'\n",
        "    print('==> Saving model ...')\n",
        "    print(\"checkpoint_dir:\", checkpoint_dir)\n",
        "    print(\"checkpoint_model_path:\", checkpoint_model_path)\n",
        "    print(\"checkpoint_hist_path:\" , checkpoint_hist_path)\n",
        "\n",
        "    state_save = {\n",
        "        'net': model_ft.state_dict(),\n",
        "    }\n",
        "    if not os.path.isdir(checkpoint_dir):\n",
        "        os.mkdir(checkpoint_dir)\n",
        "    torch.save(state_save, checkpoint_model_path)\n",
        "    torch.save(history_ft, checkpoint_hist_path)\n",
        "    print()\n",
        "\n",
        "    \"\"\"Plot\n",
        "    \"\"\"\n",
        "    # Plot Accuracy and Loss \n",
        "    print(logParametersForTrain)\n",
        "    plot_acc_and_loss_for_train_and_val(history_ft)\n",
        "    print() \n",
        "    \"\"\"####################        Test         ####################\n",
        "    \"\"\"\n",
        "    # Initialize the model for this run\n",
        "    model_for_test, _ = initialize_model_3_LeakyRelu_noBatchNorm(model_name, use_pretrained, feature_extract, versionLong)\n",
        "    print()\n",
        "    model_for_test = model_for_test.to(device)\n",
        "    state_load = torch.load(checkpoint_model_path, map_location=device)\n",
        "    model_for_test.load_state_dict(state_load['net'])\n",
        "    print()\n",
        "    # Test\n",
        "    Performance_test = test_model(model_for_test, test_dataloader, device, True)\n",
        "    print()\n",
        "    # Print statisitcs\n",
        "    print(\"test accuracy: {:.3f}\".format(Performance_test['accuracy']))\n",
        "    print(\"Recall of the model is {:.3f}\".format(Performance_test['recall']))\n",
        "    print(\"Precision of the model is {:.3f}\".format(Performance_test['precision']))\n",
        "    print(\"F1 Score of the model is {:.3f}\".format(Performance_test['f1']))\n",
        "    print()\n",
        "    \"\"\"save testing\n",
        "    \"\"\"\n",
        "    timeToSave = getDateTimeString()\n",
        "    checkpoint_dir = '/content/drive/MyDrive/DL/project_ariel_yael/pneumonia/checkpoints_pneumonia_ACC_COND'\n",
        "    checkpoint_test_path = checkpoint_dir + '/' + logParametersForTrain + timeToSave + '__test_performance.pth'\n",
        "    print('==> Saving test results ...')\n",
        "    print(\"checkpoint_dir:\", checkpoint_dir)\n",
        "    print(\"checkpoint_test_path:\", checkpoint_test_path)\n",
        "\n",
        "    torch.save(Performance_test, checkpoint_test_path)\n",
        "\n",
        "    print()\n",
        "    print(\"##################################################################################\")"
      ],
      "execution_count": 72,
      "outputs": [
        {
          "output_type": "stream",
          "text": [
            "initialize_model parameters:\n",
            "model_name: efficientnet-b0 use_pretrained: True feature_extract: True chooseLong: 3\n",
            "Loaded pretrained weights for efficientnet-b0\n",
            "\n",
            "Params to learn:\n",
            "\t _fc.0.weight\n",
            "\t _fc.0.bias\n",
            "\t _fc.3.weight\n",
            "\t _fc.3.bias\n",
            "\t _fc.5.weight\n",
            "\t _fc.5.bias\n",
            "\t _fc.7.weight\n",
            "\t _fc.7.bias\n",
            "\t _fc.9.weight\n",
            "\t _fc.9.bias\n",
            "idx:1 model:efficientnet-b0 versionLong:3 lr:0.001\n",
            "\n",
            "Epoch 0/49 |Train Loss: 0.3000 | Train Acc: 0.8821 |Val Loss: 1.6621 | Val Acc: 0.7593 | recall: 1.000 | precision: 0.759 | f1: 0.863 |Epoch Time: 80.03009986877441\n",
            "Epoch 1/49 |Train Loss: 0.1929 | Train Acc: 0.9171 |Val Loss: 0.5265 | Val Acc: 0.8600 | recall: 0.961 | precision: 0.869 | f1: 0.912 |Epoch Time: 81.36282753944397\n",
            "Epoch 2/49 |Train Loss: 0.1703 | Train Acc: 0.9226 |Val Loss: 0.4382 | Val Acc: 0.8897 | recall: 0.984 | precision: 0.884 | f1: 0.931 |Epoch Time: 80.60408592224121\n",
            "Epoch 3/49 |Train Loss: 0.1645 | Train Acc: 0.9317 |Val Loss: 0.7680 | Val Acc: 0.8591 | recall: 0.996 | precision: 0.846 | f1: 0.915 |Epoch Time: 80.06333446502686\n",
            "Epoch 4/49 |Train Loss: 0.1769 | Train Acc: 0.9245 |Val Loss: 0.2900 | Val Acc: 0.9300 | recall: 0.972 | precision: 0.938 | f1: 0.955 |Epoch Time: 80.22169947624207\n",
            "Epoch 5/49 |Train Loss: 0.1570 | Train Acc: 0.9339 |Val Loss: 0.1650 | Val Acc: 0.9300 | recall: 0.926 | precision: 0.981 | f1: 0.953 |Epoch Time: 79.92498826980591\n",
            "Epoch 6/49 |Train Loss: 0.1553 | Train Acc: 0.9384 |Val Loss: 0.1481 | Val Acc: 0.9271 | recall: 0.914 | precision: 0.989 | f1: 0.950 |Epoch Time: 79.93692469596863\n",
            "Epoch 7/49 |Train Loss: 0.1327 | Train Acc: 0.9461 |Val Loss: 0.1286 | Val Acc: 0.9377 | recall: 0.927 | precision: 0.991 | f1: 0.958 |Epoch Time: 80.07391333580017\n",
            "Epoch 8/49 |Train Loss: 0.1470 | Train Acc: 0.9363 |Val Loss: 0.1308 | Val Acc: 0.9626 | recall: 0.968 | precision: 0.982 | f1: 0.975 |Epoch Time: 80.06851887702942\n",
            "Epoch 9/49 |Train Loss: 0.1429 | Train Acc: 0.9466 |Val Loss: 0.1178 | Val Acc: 0.9636 | recall: 0.966 | precision: 0.986 | f1: 0.976 |Epoch Time: 80.00610733032227\n",
            "Epoch 10/49 |Train Loss: 0.1284 | Train Acc: 0.9487 |Val Loss: 0.1195 | Val Acc: 0.9386 | recall: 0.931 | precision: 0.988 | f1: 0.958 |Epoch Time: 79.91448664665222\n",
            "Epoch 11/49 |Train Loss: 0.1413 | Train Acc: 0.9387 |Val Loss: 0.1369 | Val Acc: 0.9252 | recall: 0.910 | precision: 0.990 | f1: 0.949 |Epoch Time: 80.18876457214355\n",
            "Epoch 12/49 |Train Loss: 0.1311 | Train Acc: 0.9427 |Val Loss: 0.1190 | Val Acc: 0.9540 | recall: 0.947 | precision: 0.992 | f1: 0.969 |Epoch Time: 79.69897222518921\n",
            "Epoch 13/49 |Train Loss: 0.1387 | Train Acc: 0.9415 |Val Loss: 0.1081 | Val Acc: 0.9578 | recall: 0.958 | precision: 0.986 | f1: 0.972 |Epoch Time: 80.02366185188293\n",
            "Epoch 14/49 |Train Loss: 0.1339 | Train Acc: 0.9475 |Val Loss: 0.1261 | Val Acc: 0.9473 | recall: 0.949 | precision: 0.980 | f1: 0.965 |Epoch Time: 79.5197594165802\n",
            "Epoch 15/49 |Train Loss: 0.1215 | Train Acc: 0.9485 |Val Loss: 0.1070 | Val Acc: 0.9482 | recall: 0.937 | precision: 0.995 | f1: 0.965 |Epoch Time: 79.90784931182861\n",
            "Epoch 16/49 |Train Loss: 0.1351 | Train Acc: 0.9434 |Val Loss: 0.1233 | Val Acc: 0.9415 | recall: 0.929 | precision: 0.993 | f1: 0.960 |Epoch Time: 80.06430745124817\n",
            "Epoch 17/49 |Train Loss: 0.1233 | Train Acc: 0.9502 |Val Loss: 0.1119 | Val Acc: 0.9578 | recall: 0.957 | precision: 0.987 | f1: 0.972 |Epoch Time: 79.66828417778015\n",
            "Epoch 18/49 |Train Loss: 0.1298 | Train Acc: 0.9504 |Val Loss: 0.1198 | Val Acc: 0.9425 | recall: 0.939 | precision: 0.984 | f1: 0.961 |Epoch Time: 79.76316714286804\n",
            "Epoch 19/49 |Train Loss: 0.1274 | Train Acc: 0.9473 |Val Loss: 0.1031 | Val Acc: 0.9530 | recall: 0.951 | precision: 0.987 | f1: 0.968 |Epoch Time: 79.6356110572815\n",
            "Epoch 20/49 |Train Loss: 0.1292 | Train Acc: 0.9468 |Val Loss: 0.1009 | Val Acc: 0.9645 | recall: 0.963 | precision: 0.990 | f1: 0.976 |Epoch Time: 79.82317924499512\n",
            "Epoch 21/49 |Train Loss: 0.1273 | Train Acc: 0.9504 |Val Loss: 0.1291 | Val Acc: 0.9597 | recall: 0.965 | precision: 0.982 | f1: 0.973 |Epoch Time: 79.57742404937744\n",
            "Epoch 22/49 |Train Loss: 0.1279 | Train Acc: 0.9502 |Val Loss: 0.0904 | Val Acc: 0.9616 | recall: 0.957 | precision: 0.992 | f1: 0.974 |Epoch Time: 80.00814938545227\n",
            "Epoch 23/49 |Train Loss: 0.1121 | Train Acc: 0.9538 |Val Loss: 0.1293 | Val Acc: 0.9636 | recall: 0.971 | precision: 0.981 | f1: 0.976 |Epoch Time: 80.02058672904968\n",
            "Epoch 24/49 |Train Loss: 0.1298 | Train Acc: 0.9490 |Val Loss: 0.1190 | Val Acc: 0.9473 | recall: 0.942 | precision: 0.988 | f1: 0.964 |Epoch Time: 80.15156364440918\n",
            "Epoch 25/49 |Train Loss: 0.1134 | Train Acc: 0.9526 |Val Loss: 0.1125 | Val Acc: 0.9521 | recall: 0.947 | precision: 0.989 | f1: 0.968 |Epoch Time: 80.01195693016052\n",
            "Epoch 26/49 |Train Loss: 0.1108 | Train Acc: 0.9492 |Val Loss: 0.1288 | Val Acc: 0.9434 | recall: 0.937 | precision: 0.988 | f1: 0.962 |Epoch Time: 79.69517421722412\n",
            "Epoch 27/49 |Train Loss: 0.1099 | Train Acc: 0.9561 |Val Loss: 0.0977 | Val Acc: 0.9597 | recall: 0.957 | precision: 0.990 | f1: 0.973 |Epoch Time: 79.86636114120483\n",
            "Epoch 28/49 |Train Loss: 0.1342 | Train Acc: 0.9434 |Val Loss: 0.1509 | Val Acc: 0.9329 | recall: 0.919 | precision: 0.992 | f1: 0.954 |Epoch Time: 79.8164005279541\n",
            "Epoch 29/49 |Train Loss: 0.1095 | Train Acc: 0.9581 |Val Loss: 0.1410 | Val Acc: 0.9377 | recall: 0.926 | precision: 0.992 | f1: 0.958 |Epoch Time: 79.70908260345459\n",
            "Epoch 30/49 |Train Loss: 0.1169 | Train Acc: 0.9499 |Val Loss: 0.1163 | Val Acc: 0.9434 | recall: 0.929 | precision: 0.996 | f1: 0.961 |Epoch Time: 79.52445387840271\n",
            "Epoch 31/49 |Train Loss: 0.1184 | Train Acc: 0.9518 |Val Loss: 0.1207 | Val Acc: 0.9406 | recall: 0.933 | precision: 0.988 | f1: 0.960 |Epoch Time: 79.94202589988708\n",
            "Epoch 32/49 |Train Loss: 0.1197 | Train Acc: 0.9521 |Val Loss: 0.1274 | Val Acc: 0.9367 | recall: 0.922 | precision: 0.995 | f1: 0.957 |Epoch Time: 79.90255451202393\n",
            "Epoch 33/49 |Train Loss: 0.1088 | Train Acc: 0.9593 |Val Loss: 0.1148 | Val Acc: 0.9588 | recall: 0.957 | precision: 0.988 | f1: 0.972 |Epoch Time: 79.81386590003967\n",
            "Epoch 34/49 |Train Loss: 0.1047 | Train Acc: 0.9629 |Val Loss: 0.1067 | Val Acc: 0.9521 | recall: 0.946 | precision: 0.991 | f1: 0.968 |Epoch Time: 79.97625517845154\n",
            "Epoch 35/49 |Train Loss: 0.1052 | Train Acc: 0.9545 |Val Loss: 0.0968 | Val Acc: 0.9645 | recall: 0.965 | precision: 0.988 | f1: 0.976 |Epoch Time: 79.78969669342041\n",
            "Epoch 36/49 |Train Loss: 0.1107 | Train Acc: 0.9538 |Val Loss: 0.1264 | Val Acc: 0.9530 | recall: 0.947 | precision: 0.991 | f1: 0.968 |Epoch Time: 80.0155303478241\n",
            "Epoch 37/49 |Train Loss: 0.0998 | Train Acc: 0.9542 |Val Loss: 0.1685 | Val Acc: 0.9664 | recall: 0.972 | precision: 0.983 | f1: 0.978 |Epoch Time: 79.90918040275574\n",
            "Epoch 38/49 |Train Loss: 0.1138 | Train Acc: 0.9516 |Val Loss: 0.1341 | Val Acc: 0.9463 | recall: 0.936 | precision: 0.993 | f1: 0.964 |Epoch Time: 80.05484461784363\n",
            "Epoch 39/49 |Train Loss: 0.1108 | Train Acc: 0.9518 |Val Loss: 0.1081 | Val Acc: 0.9425 | recall: 0.929 | precision: 0.995 | f1: 0.961 |Epoch Time: 79.93641233444214\n",
            "Epoch 40/49 |Train Loss: 0.1117 | Train Acc: 0.9540 |Val Loss: 0.0824 | Val Acc: 0.9626 | recall: 0.961 | precision: 0.990 | f1: 0.975 |Epoch Time: 80.06742548942566\n",
            "Epoch 41/49 |Train Loss: 0.1178 | Train Acc: 0.9547 |Val Loss: 0.0960 | Val Acc: 0.9588 | recall: 0.961 | precision: 0.984 | f1: 0.973 |Epoch Time: 80.13394546508789\n",
            "Epoch 42/49 |Train Loss: 0.1129 | Train Acc: 0.9554 |Val Loss: 0.1202 | Val Acc: 0.9415 | recall: 0.929 | precision: 0.993 | f1: 0.960 |Epoch Time: 79.92879939079285\n",
            "Epoch 43/49 |Train Loss: 0.1113 | Train Acc: 0.9557 |Val Loss: 0.1258 | Val Acc: 0.9607 | recall: 0.963 | precision: 0.985 | f1: 0.974 |Epoch Time: 80.18893623352051\n",
            "Epoch 44/49 |Train Loss: 0.1007 | Train Acc: 0.9583 |Val Loss: 0.1034 | Val Acc: 0.9674 | recall: 0.967 | precision: 0.990 | f1: 0.978 |Epoch Time: 79.95221257209778\n",
            "Epoch 45/49 |Train Loss: 0.0892 | Train Acc: 0.9665 |Val Loss: 0.1063 | Val Acc: 0.9655 | recall: 0.970 | precision: 0.985 | f1: 0.977 |Epoch Time: 80.23082256317139\n",
            "Epoch 46/49 |Train Loss: 0.1009 | Train Acc: 0.9619 |Val Loss: 0.1227 | Val Acc: 0.9453 | recall: 0.937 | precision: 0.991 | f1: 0.963 |Epoch Time: 80.14515614509583\n",
            "Epoch 47/49 |Train Loss: 0.1074 | Train Acc: 0.9607 |Val Loss: 0.1089 | Val Acc: 0.9626 | recall: 0.966 | precision: 0.985 | f1: 0.975 |Epoch Time: 80.18588590621948\n",
            "Epoch 48/49 |Train Loss: 0.1027 | Train Acc: 0.9581 |Val Loss: 0.1112 | Val Acc: 0.9616 | recall: 0.963 | precision: 0.986 | f1: 0.974 |Epoch Time: 80.15366339683533\n",
            "Epoch 49/49 |Train Loss: 0.1064 | Train Acc: 0.9573 |Val Loss: 0.1043 | Val Acc: 0.9588 | recall: 0.956 | precision: 0.990 | f1: 0.972 |Epoch Time: 80.33864498138428\n",
            "Training complete in 66m 40s\n",
            "Best val acc: 0.967402 where val loss: 0.103419 at epoch: 44 \n",
            "\n",
            "==> Saving model ...\n",
            "checkpoint_dir: /content/drive/MyDrive/DL/project_ariel_yael/pneumonia/checkpoints_pneumonia_ACC_COND\n",
            "checkpoint_model_path: /content/drive/MyDrive/DL/project_ariel_yael/pneumonia/checkpoints_pneumonia_ACC_COND/idx:1 model:efficientnet-b0 versionLong:3 lr:0.001time:2021-07-05_14:37__ckpt.pth\n",
            "checkpoint_hist_path: /content/drive/MyDrive/DL/project_ariel_yael/pneumonia/checkpoints_pneumonia_ACC_COND/idx:1 model:efficientnet-b0 versionLong:3 lr:0.001time:2021-07-05_14:37__hist.pth\n",
            "\n",
            "idx:1 model:efficientnet-b0 versionLong:3 lr:0.001\n",
            "\n",
            "initialize_model parameters:\n",
            "model_name: efficientnet-b0 use_pretrained: True feature_extract: True chooseLong: 3\n",
            "Loaded pretrained weights for efficientnet-b0\n",
            "\n",
            "\n"
          ],
          "name": "stdout"
        },
        {
          "output_type": "display_data",
          "data": {
            "image/png": "[encoded data removed]",
            "text/plain": [
              "<Figure size 1800x360 with 2 Axes>"
            ]
          },
          "metadata": {
            "tags": [],
            "needs_background": "light"
          }
        },
        {
          "output_type": "display_data",
          "data": {
            "text/plain": [
              "<Figure size 432x288 with 0 Axes>"
            ]
          },
          "metadata": {
            "tags": []
          }
        },
        {
          "output_type": "display_data",
          "data": {
            "image/png": "[encoded data removed]",
            "text/plain": [
              "<Figure size 864x576 with 1 Axes>"
            ]
          },
          "metadata": {
            "tags": [],
            "needs_background": "light"
          }
        },
        {
          "output_type": "stream",
          "text": [
            "\n",
            "test accuracy: 0.845\n",
            "Recall of the model is 0.982\n",
            "Precision of the model is 0.810\n",
            "F1 Score of the model is 0.888\n",
            "\n",
            "==> Saving test results ...\n",
            "checkpoint_dir: /content/drive/MyDrive/DL/project_ariel_yael/pneumonia/checkpoints_pneumonia_ACC_COND\n",
            "checkpoint_test_path: /content/drive/MyDrive/DL/project_ariel_yael/pneumonia/checkpoints_pneumonia_ACC_COND/idx:1 model:efficientnet-b0 versionLong:3 lr:0.001time:2021-07-05_14:37__test_performance.pth\n",
            "\n",
            "##################################################################################\n"
          ],
          "name": "stdout"
        }
      ]
    },
    {
      "cell_type": "markdown",
      "metadata": {
        "id": "m0pRD533o1Go"
      },
      "source": [
        "## initialize_model_3_LeakyRelu_BatchNorm"
      ]
    },
    {
      "cell_type": "code",
      "metadata": {
        "id": "weMfUQrJDalb",
        "colab": {
          "base_uri": "https://localhost:8080/",
          "height": 1000
        },
        "outputId": "f5e98070-2ca5-4e71-b6c7-fa15597dec67"
      },
      "source": [
        "idx = 0\n",
        "for versionLong in [3]:\n",
        "    idx = idx + 1\n",
        "    \"\"\"Initialize the model for this run\n",
        "    \"\"\"\n",
        "    model_ft, _ = initialize_model_3_LeakyRelu_BatchNorm(model_name, use_pretrained, feature_extract, versionLong)\n",
        "\n",
        "    # Print the model we just instantiated\n",
        "    # print(model_ft) # shutdown whhile working\n",
        "\n",
        "    model_ft = model_ft.to(device)\n",
        "    print()\n",
        "    \"\"\"Create the Optimizer\n",
        "    \"\"\"\n",
        "\n",
        "    # list of parameters to be optimized. check out the printed parameters to learn!\n",
        "    params_to_update = gather_params_to_update(model_ft, feature_extract)\n",
        "    # Observe that all parameters are being optimized\n",
        "    optimizer_ft = torch.optim.Adam(params_to_update, lr=learning_rate)\n",
        "\n",
        "\n",
        "    \n",
        "\n",
        "    # log:\n",
        "    logParametersForTrain = \"idx:{} model:{} versionLong:{} lr:{}\".format(idx,model_name,versionLong,learning_rate)\n",
        "    print(logParametersForTrain)\n",
        "    print()\n",
        "\n",
        "    \"\"\"####################  Train and evaluate  ####################\n",
        "    \"\"\"\n",
        "    model_ft, history_ft = train_model(model_ft, train_dataloader, val_dataloader, criterion_ft, optimizer_ft, num_epochs, device)\n",
        "    print()\n",
        "\n",
        "    \"\"\"save training\n",
        "    \"\"\"\n",
        "    timeToSave = getDateTimeString()\n",
        "    checkpoint_dir = '/content/drive/MyDrive/DL/project_ariel_yael/pneumonia/checkpoints_pneumonia_ACC_COND'\n",
        "    checkpoint_model_path = checkpoint_dir + '/' + logParametersForTrain + timeToSave + '__ckpt.pth'\n",
        "    checkpoint_hist_path = checkpoint_dir + '/' + logParametersForTrain + timeToSave + '__hist.pth'\n",
        "    print('==> Saving model ...')\n",
        "    print(\"checkpoint_dir:\", checkpoint_dir)\n",
        "    print(\"checkpoint_model_path:\", checkpoint_model_path)\n",
        "    print(\"checkpoint_hist_path:\" , checkpoint_hist_path)\n",
        "\n",
        "    state_save = {\n",
        "        'net': model_ft.state_dict(),\n",
        "    }\n",
        "    if not os.path.isdir(checkpoint_dir):\n",
        "        os.mkdir(checkpoint_dir)\n",
        "    torch.save(state_save, checkpoint_model_path)\n",
        "    torch.save(history_ft, checkpoint_hist_path)\n",
        "    print()\n",
        "\n",
        "    \"\"\"Plot\n",
        "    \"\"\"\n",
        "    # Plot Accuracy and Loss \n",
        "    print(logParametersForTrain)\n",
        "    plot_acc_and_loss_for_train_and_val(history_ft)\n",
        "    print() \n",
        "    \"\"\"####################        Test         ####################\n",
        "    \"\"\"\n",
        "    # Initialize the model for this run\n",
        "    model_for_test, _ = initialize_model_3_LeakyRelu_BatchNorm(model_name, use_pretrained, feature_extract, versionLong)\n",
        "    print()\n",
        "    model_for_test = model_for_test.to(device)\n",
        "    state_load = torch.load(checkpoint_model_path, map_location=device)\n",
        "    model_for_test.load_state_dict(state_load['net'])\n",
        "    print()\n",
        "    # Test\n",
        "    Performance_test = test_model(model_for_test, test_dataloader, device, True)\n",
        "    print()\n",
        "    # Print statisitcs\n",
        "    print(\"test accuracy: {:.3f}\".format(Performance_test['accuracy']))\n",
        "    print(\"Recall of the model is {:.3f}\".format(Performance_test['recall']))\n",
        "    print(\"Precision of the model is {:.3f}\".format(Performance_test['precision']))\n",
        "    print(\"F1 Score of the model is {:.3f}\".format(Performance_test['f1']))\n",
        "    print()\n",
        "    \"\"\"save testing\n",
        "    \"\"\"\n",
        "    timeToSave = getDateTimeString()\n",
        "    checkpoint_dir = '/content/drive/MyDrive/DL/project_ariel_yael/pneumonia/checkpoints_pneumonia_ACC_COND'\n",
        "    checkpoint_test_path = checkpoint_dir + '/' + logParametersForTrain + timeToSave + '__test_performance.pth'\n",
        "    print('==> Saving test results ...')\n",
        "    print(\"checkpoint_dir:\", checkpoint_dir)\n",
        "    print(\"checkpoint_test_path:\", checkpoint_test_path)\n",
        "\n",
        "    torch.save(Performance_test, checkpoint_test_path)\n",
        "\n",
        "    print()\n",
        "    print(\"##################################################################################\")"
      ],
      "execution_count": 73,
      "outputs": [
        {
          "output_type": "stream",
          "text": [
            "initialize_model parameters:\n",
            "model_name: efficientnet-b0 use_pretrained: True feature_extract: True chooseLong: 3\n",
            "Loaded pretrained weights for efficientnet-b0\n",
            "\n",
            "Params to learn:\n",
            "\t _fc.0.weight\n",
            "\t _fc.0.bias\n",
            "\t _fc.3.weight\n",
            "\t _fc.3.bias\n",
            "\t _fc.4.weight\n",
            "\t _fc.4.bias\n",
            "\t _fc.6.weight\n",
            "\t _fc.6.bias\n",
            "\t _fc.8.weight\n",
            "\t _fc.8.bias\n",
            "\t _fc.9.weight\n",
            "\t _fc.9.bias\n",
            "\t _fc.11.weight\n",
            "\t _fc.11.bias\n",
            "idx:1 model:efficientnet-b0 versionLong:3 lr:0.001\n",
            "\n",
            "Epoch 0/49 |Train Loss: 0.2698 | Train Acc: 0.8850 |Val Loss: 1.5332 | Val Acc: 0.7593 | recall: 1.000 | precision: 0.759 | f1: 0.863 |Epoch Time: 80.26574993133545\n",
            "Epoch 1/49 |Train Loss: 0.1925 | Train Acc: 0.9185 |Val Loss: 0.9985 | Val Acc: 0.8121 | recall: 0.992 | precision: 0.805 | f1: 0.889 |Epoch Time: 80.52363848686218\n",
            "Epoch 2/49 |Train Loss: 0.1821 | Train Acc: 0.9216 |Val Loss: 0.5136 | Val Acc: 0.8869 | recall: 0.984 | precision: 0.881 | f1: 0.930 |Epoch Time: 80.30421233177185\n",
            "Epoch 3/49 |Train Loss: 0.1697 | Train Acc: 0.9310 |Val Loss: 0.4093 | Val Acc: 0.9089 | recall: 0.972 | precision: 0.913 | f1: 0.942 |Epoch Time: 80.42021059989929\n",
            "Epoch 4/49 |Train Loss: 0.1616 | Train Acc: 0.9283 |Val Loss: 0.1970 | Val Acc: 0.9185 | recall: 0.910 | precision: 0.981 | f1: 0.944 |Epoch Time: 80.87463545799255\n",
            "Epoch 5/49 |Train Loss: 0.1645 | Train Acc: 0.9274 |Val Loss: 0.1506 | Val Acc: 0.9204 | recall: 0.903 | precision: 0.992 | f1: 0.945 |Epoch Time: 80.20137095451355\n",
            "Epoch 6/49 |Train Loss: 0.1801 | Train Acc: 0.9248 |Val Loss: 0.1314 | Val Acc: 0.9386 | recall: 0.924 | precision: 0.995 | f1: 0.958 |Epoch Time: 80.97824358940125\n",
            "Epoch 7/49 |Train Loss: 0.1606 | Train Acc: 0.9367 |Val Loss: 0.1393 | Val Acc: 0.9377 | recall: 0.923 | precision: 0.995 | f1: 0.957 |Epoch Time: 81.155038356781\n",
            "Epoch 8/49 |Train Loss: 0.1558 | Train Acc: 0.9346 |Val Loss: 0.1224 | Val Acc: 0.9425 | recall: 0.929 | precision: 0.995 | f1: 0.961 |Epoch Time: 80.49547243118286\n",
            "Epoch 9/49 |Train Loss: 0.1550 | Train Acc: 0.9375 |Val Loss: 0.1104 | Val Acc: 0.9607 | recall: 0.955 | precision: 0.993 | f1: 0.974 |Epoch Time: 80.60503959655762\n",
            "Epoch 10/49 |Train Loss: 0.1613 | Train Acc: 0.9336 |Val Loss: 0.1146 | Val Acc: 0.9415 | recall: 0.931 | precision: 0.992 | f1: 0.960 |Epoch Time: 80.21604323387146\n",
            "Epoch 11/49 |Train Loss: 0.1534 | Train Acc: 0.9351 |Val Loss: 0.1123 | Val Acc: 0.9636 | recall: 0.960 | precision: 0.992 | f1: 0.976 |Epoch Time: 80.45702505111694\n",
            "Epoch 12/49 |Train Loss: 0.1512 | Train Acc: 0.9399 |Val Loss: 0.1219 | Val Acc: 0.9434 | recall: 0.933 | precision: 0.992 | f1: 0.962 |Epoch Time: 80.31025004386902\n",
            "Epoch 13/49 |Train Loss: 0.1368 | Train Acc: 0.9463 |Val Loss: 0.1173 | Val Acc: 0.9463 | recall: 0.942 | precision: 0.987 | f1: 0.964 |Epoch Time: 79.84000205993652\n",
            "Epoch 14/49 |Train Loss: 0.1264 | Train Acc: 0.9468 |Val Loss: 0.1189 | Val Acc: 0.9549 | recall: 0.953 | precision: 0.987 | f1: 0.970 |Epoch Time: 80.19217705726624\n",
            "Epoch 15/49 |Train Loss: 0.1334 | Train Acc: 0.9494 |Val Loss: 0.1160 | Val Acc: 0.9444 | recall: 0.937 | precision: 0.989 | f1: 0.962 |Epoch Time: 80.56587648391724\n",
            "Epoch 16/49 |Train Loss: 0.1452 | Train Acc: 0.9432 |Val Loss: 0.1268 | Val Acc: 0.9444 | recall: 0.943 | precision: 0.983 | f1: 0.963 |Epoch Time: 80.49070048332214\n",
            "Epoch 17/49 |Train Loss: 0.1255 | Train Acc: 0.9504 |Val Loss: 0.1228 | Val Acc: 0.9492 | recall: 0.949 | precision: 0.983 | f1: 0.966 |Epoch Time: 80.0573787689209\n",
            "Epoch 18/49 |Train Loss: 0.1356 | Train Acc: 0.9458 |Val Loss: 0.1314 | Val Acc: 0.9473 | recall: 0.946 | precision: 0.984 | f1: 0.965 |Epoch Time: 80.62942719459534\n",
            "Epoch 19/49 |Train Loss: 0.1352 | Train Acc: 0.9478 |Val Loss: 0.1109 | Val Acc: 0.9569 | recall: 0.955 | precision: 0.988 | f1: 0.971 |Epoch Time: 80.29625248908997\n",
            "Epoch 20/49 |Train Loss: 0.1368 | Train Acc: 0.9497 |Val Loss: 0.1137 | Val Acc: 0.9501 | recall: 0.943 | precision: 0.991 | f1: 0.966 |Epoch Time: 79.97471928596497\n",
            "Epoch 21/49 |Train Loss: 0.1354 | Train Acc: 0.9463 |Val Loss: 0.1278 | Val Acc: 0.9434 | recall: 0.941 | precision: 0.984 | f1: 0.962 |Epoch Time: 80.51045775413513\n",
            "Epoch 22/49 |Train Loss: 0.1159 | Train Acc: 0.9545 |Val Loss: 0.1034 | Val Acc: 0.9578 | recall: 0.951 | precision: 0.993 | f1: 0.972 |Epoch Time: 80.39458322525024\n",
            "Epoch 23/49 |Train Loss: 0.1322 | Train Acc: 0.9456 |Val Loss: 0.1146 | Val Acc: 0.9540 | recall: 0.951 | precision: 0.988 | f1: 0.969 |Epoch Time: 80.22857928276062\n",
            "Epoch 24/49 |Train Loss: 0.1243 | Train Acc: 0.9497 |Val Loss: 0.1000 | Val Acc: 0.9684 | recall: 0.970 | precision: 0.988 | f1: 0.979 |Epoch Time: 80.39428377151489\n",
            "Epoch 25/49 |Train Loss: 0.1188 | Train Acc: 0.9535 |Val Loss: 0.1254 | Val Acc: 0.9616 | recall: 0.965 | precision: 0.985 | f1: 0.974 |Epoch Time: 80.91819787025452\n",
            "Epoch 26/49 |Train Loss: 0.1257 | Train Acc: 0.9470 |Val Loss: 0.1108 | Val Acc: 0.9521 | recall: 0.944 | precision: 0.992 | f1: 0.968 |Epoch Time: 80.1058304309845\n",
            "Epoch 27/49 |Train Loss: 0.1110 | Train Acc: 0.9564 |Val Loss: 0.1211 | Val Acc: 0.9607 | recall: 0.963 | precision: 0.985 | f1: 0.974 |Epoch Time: 79.94221210479736\n",
            "Epoch 28/49 |Train Loss: 0.1152 | Train Acc: 0.9549 |Val Loss: 0.1243 | Val Acc: 0.9425 | recall: 0.933 | precision: 0.991 | f1: 0.961 |Epoch Time: 80.88112711906433\n",
            "Epoch 29/49 |Train Loss: 0.1167 | Train Acc: 0.9549 |Val Loss: 0.1167 | Val Acc: 0.9444 | recall: 0.938 | precision: 0.988 | f1: 0.962 |Epoch Time: 80.64269614219666\n",
            "Epoch 30/49 |Train Loss: 0.1172 | Train Acc: 0.9547 |Val Loss: 0.1036 | Val Acc: 0.9626 | recall: 0.961 | precision: 0.990 | f1: 0.975 |Epoch Time: 80.14905619621277\n",
            "Epoch 31/49 |Train Loss: 0.1236 | Train Acc: 0.9535 |Val Loss: 0.0993 | Val Acc: 0.9511 | recall: 0.948 | precision: 0.987 | f1: 0.967 |Epoch Time: 80.59876322746277\n",
            "Epoch 32/49 |Train Loss: 0.1146 | Train Acc: 0.9573 |Val Loss: 0.1049 | Val Acc: 0.9549 | recall: 0.952 | precision: 0.988 | f1: 0.970 |Epoch Time: 80.60517501831055\n",
            "Epoch 33/49 |Train Loss: 0.1181 | Train Acc: 0.9526 |Val Loss: 0.1146 | Val Acc: 0.9501 | recall: 0.944 | precision: 0.989 | f1: 0.966 |Epoch Time: 80.14447259902954\n",
            "Epoch 34/49 |Train Loss: 0.1121 | Train Acc: 0.9549 |Val Loss: 0.1268 | Val Acc: 0.9588 | recall: 0.967 | precision: 0.978 | f1: 0.973 |Epoch Time: 80.38875579833984\n",
            "Epoch 35/49 |Train Loss: 0.1215 | Train Acc: 0.9528 |Val Loss: 0.0943 | Val Acc: 0.9616 | recall: 0.961 | precision: 0.988 | f1: 0.974 |Epoch Time: 80.01294779777527\n",
            "Epoch 36/49 |Train Loss: 0.1091 | Train Acc: 0.9569 |Val Loss: 0.1065 | Val Acc: 0.9588 | recall: 0.958 | precision: 0.987 | f1: 0.972 |Epoch Time: 80.29421901702881\n",
            "Epoch 37/49 |Train Loss: 0.1092 | Train Acc: 0.9588 |Val Loss: 0.1086 | Val Acc: 0.9655 | recall: 0.967 | precision: 0.987 | f1: 0.977 |Epoch Time: 80.42970037460327\n",
            "Epoch 38/49 |Train Loss: 0.1252 | Train Acc: 0.9554 |Val Loss: 0.1050 | Val Acc: 0.9578 | recall: 0.953 | precision: 0.991 | f1: 0.972 |Epoch Time: 80.1483051776886\n",
            "Epoch 39/49 |Train Loss: 0.1112 | Train Acc: 0.9554 |Val Loss: 0.1181 | Val Acc: 0.9540 | recall: 0.948 | precision: 0.991 | f1: 0.969 |Epoch Time: 80.70369505882263\n",
            "Epoch 40/49 |Train Loss: 0.1193 | Train Acc: 0.9502 |Val Loss: 0.1166 | Val Acc: 0.9540 | recall: 0.948 | precision: 0.991 | f1: 0.969 |Epoch Time: 80.3695433139801\n",
            "Epoch 41/49 |Train Loss: 0.1044 | Train Acc: 0.9593 |Val Loss: 0.1018 | Val Acc: 0.9453 | recall: 0.939 | precision: 0.988 | f1: 0.963 |Epoch Time: 80.43453741073608\n",
            "Epoch 42/49 |Train Loss: 0.1122 | Train Acc: 0.9540 |Val Loss: 0.1161 | Val Acc: 0.9492 | recall: 0.946 | precision: 0.987 | f1: 0.966 |Epoch Time: 80.59734058380127\n",
            "Epoch 43/49 |Train Loss: 0.1083 | Train Acc: 0.9569 |Val Loss: 0.1066 | Val Acc: 0.9530 | recall: 0.947 | precision: 0.991 | f1: 0.968 |Epoch Time: 79.84280109405518\n",
            "Epoch 44/49 |Train Loss: 0.0989 | Train Acc: 0.9600 |Val Loss: 0.1144 | Val Acc: 0.9626 | recall: 0.958 | precision: 0.992 | f1: 0.975 |Epoch Time: 79.46357583999634\n",
            "Epoch 45/49 |Train Loss: 0.1173 | Train Acc: 0.9549 |Val Loss: 0.0963 | Val Acc: 0.9684 | recall: 0.971 | precision: 0.987 | f1: 0.979 |Epoch Time: 79.33498215675354\n",
            "Epoch 46/49 |Train Loss: 0.1098 | Train Acc: 0.9561 |Val Loss: 0.1212 | Val Acc: 0.9655 | recall: 0.972 | precision: 0.982 | f1: 0.977 |Epoch Time: 80.01585960388184\n",
            "Epoch 47/49 |Train Loss: 0.1014 | Train Acc: 0.9573 |Val Loss: 0.0922 | Val Acc: 0.9645 | recall: 0.965 | precision: 0.988 | f1: 0.976 |Epoch Time: 79.8650803565979\n",
            "Epoch 48/49 |Train Loss: 0.1038 | Train Acc: 0.9597 |Val Loss: 0.1060 | Val Acc: 0.9607 | recall: 0.962 | precision: 0.986 | f1: 0.974 |Epoch Time: 79.31952476501465\n",
            "Epoch 49/49 |Train Loss: 0.1065 | Train Acc: 0.9578 |Val Loss: 0.0987 | Val Acc: 0.9501 | recall: 0.938 | precision: 0.996 | f1: 0.966 |Epoch Time: 79.64269733428955\n",
            "Training complete in 66m 55s\n",
            "Best val acc: 0.968360 where val loss: 0.099980 at epoch: 24 \n",
            "\n",
            "==> Saving model ...\n",
            "checkpoint_dir: /content/drive/MyDrive/DL/project_ariel_yael/pneumonia/checkpoints_pneumonia_ACC_COND\n",
            "checkpoint_model_path: /content/drive/MyDrive/DL/project_ariel_yael/pneumonia/checkpoints_pneumonia_ACC_COND/idx:1 model:efficientnet-b0 versionLong:3 lr:0.001time:2021-07-05_15:44__ckpt.pth\n",
            "checkpoint_hist_path: /content/drive/MyDrive/DL/project_ariel_yael/pneumonia/checkpoints_pneumonia_ACC_COND/idx:1 model:efficientnet-b0 versionLong:3 lr:0.001time:2021-07-05_15:44__hist.pth\n",
            "\n",
            "idx:1 model:efficientnet-b0 versionLong:3 lr:0.001\n",
            "\n",
            "initialize_model parameters:\n",
            "model_name: efficientnet-b0 use_pretrained: True feature_extract: True chooseLong: 3\n",
            "Loaded pretrained weights for efficientnet-b0\n",
            "\n",
            "\n"
          ],
          "name": "stdout"
        },
        {
          "output_type": "display_data",
          "data": {
            "image/png": "[encoded data removed]",
            "text/plain": [
              "<Figure size 1800x360 with 2 Axes>"
            ]
          },
          "metadata": {
            "tags": [],
            "needs_background": "light"
          }
        },
        {
          "output_type": "display_data",
          "data": {
            "text/plain": [
              "<Figure size 432x288 with 0 Axes>"
            ]
          },
          "metadata": {
            "tags": []
          }
        },
        {
          "output_type": "display_data",
          "data": {
            "image/png": "[encoded data removed]",
            "text/plain": [
              "<Figure size 864x576 with 1 Axes>"
            ]
          },
          "metadata": {
            "tags": [],
            "needs_background": "light"
          }
        },
        {
          "output_type": "stream",
          "text": [
            "\n",
            "test accuracy: 0.870\n",
            "Recall of the model is 0.979\n",
            "Precision of the model is 0.840\n",
            "F1 Score of the model is 0.904\n",
            "\n",
            "==> Saving test results ...\n",
            "checkpoint_dir: /content/drive/MyDrive/DL/project_ariel_yael/pneumonia/checkpoints_pneumonia_ACC_COND\n",
            "checkpoint_test_path: /content/drive/MyDrive/DL/project_ariel_yael/pneumonia/checkpoints_pneumonia_ACC_COND/idx:1 model:efficientnet-b0 versionLong:3 lr:0.001time:2021-07-05_15:45__test_performance.pth\n",
            "\n",
            "##################################################################################\n"
          ],
          "name": "stdout"
        }
      ]
    },
    {
      "cell_type": "markdown",
      "metadata": {
        "id": "XZnMFyoiC6Aj"
      },
      "source": [
        "## initialize_model_3_LeakyRelu_BatchNorm + scheduler"
      ]
    },
    {
      "cell_type": "code",
      "metadata": {
        "id": "jkUPb79_Dbit",
        "colab": {
          "base_uri": "https://localhost:8080/",
          "height": 1000
        },
        "outputId": "50eb9e5d-eb29-41a1-9a58-46030a545d2d"
      },
      "source": [
        "idx = 0\n",
        "for versionLong in [3]:\n",
        "    idx = idx + 1\n",
        "    \"\"\"Initialize the model for this run\n",
        "    \"\"\"\n",
        "    model_ft, _ = initialize_model_3_relu(model_name, use_pretrained, feature_extract, versionLong)\n",
        "\n",
        "    # Print the model we just instantiated\n",
        "    # print(model_ft) # shutdown whhile working\n",
        "\n",
        "    model_ft = model_ft.to(device)\n",
        "    print()\n",
        "    \"\"\"Create the Optimizer\n",
        "    \"\"\"\n",
        "\n",
        "    # list of parameters to be optimized. check out the printed parameters to learn!\n",
        "    params_to_update = gather_params_to_update(model_ft, feature_extract)\n",
        "    # Observe that all parameters are being optimized\n",
        "    optimizer_ft = torch.optim.Adam(params_to_update, lr=learning_rate)\n",
        "\n",
        "    # INSTANTIATE STEP LEARNING SCHEDULER CLASS:\n",
        "    factor_ft=0.7\n",
        "    patience_ft=4\n",
        "    scheduler_ft = ReduceLROnPlateau(optimizer_ft, mode='max', factor=factor_ft, patience=patience_ft, verbose=True)\n",
        "    \n",
        "\n",
        "    # log:\n",
        "    logParametersForTrain = \"idx:{} model:{} versionLong:{} lr:{}\".format(idx,model_name,versionLong,learning_rate)\n",
        "    print(logParametersForTrain)\n",
        "    print()\n",
        "\n",
        "    \"\"\"####################  Train and evaluate  ####################\n",
        "    \"\"\"\n",
        "    model_ft, history_ft = train_model_with_scheduler(model_ft, train_dataloader, val_dataloader, criterion_ft, optimizer_ft,scheduler_ft, num_epochs, device)\n",
        "    print()\n",
        "\n",
        "    \"\"\"save training\n",
        "    \"\"\"\n",
        "    timeToSave = getDateTimeString()\n",
        "    checkpoint_dir = '/content/drive/MyDrive/DL/project_ariel_yael/pneumonia/checkpoints_pneumonia_ACC_COND'\n",
        "    checkpoint_model_path = checkpoint_dir + '/' + logParametersForTrain + timeToSave + '__ckpt.pth'\n",
        "    checkpoint_hist_path = checkpoint_dir + '/' + logParametersForTrain + timeToSave + '__hist.pth'\n",
        "    print('==> Saving model ...')\n",
        "    print(\"checkpoint_dir:\", checkpoint_dir)\n",
        "    print(\"checkpoint_model_path:\", checkpoint_model_path)\n",
        "    print(\"checkpoint_hist_path:\" , checkpoint_hist_path)\n",
        "\n",
        "    state_save = {\n",
        "        'net': model_ft.state_dict(),\n",
        "    }\n",
        "    if not os.path.isdir(checkpoint_dir):\n",
        "        os.mkdir(checkpoint_dir)\n",
        "    torch.save(state_save, checkpoint_model_path)\n",
        "    torch.save(history_ft, checkpoint_hist_path)\n",
        "    print()\n",
        "\n",
        "    \"\"\"Plot\n",
        "    \"\"\"\n",
        "    # Plot Accuracy and Loss \n",
        "    print(logParametersForTrain)\n",
        "    plot_acc_and_loss_for_train_and_val(history_ft)\n",
        "    print() \n",
        "    \"\"\"####################        Test         ####################\n",
        "    \"\"\"\n",
        "    # Initialize the model for this run\n",
        "    model_for_test, _ = initialize_model_3_relu(model_name, use_pretrained, feature_extract, versionLong)\n",
        "    print()\n",
        "    model_for_test = model_for_test.to(device)\n",
        "    state_load = torch.load(checkpoint_model_path, map_location=device)\n",
        "    model_for_test.load_state_dict(state_load['net'])\n",
        "    print()\n",
        "    # Test\n",
        "    Performance_test = test_model(model_for_test, test_dataloader, device, True)\n",
        "    print()\n",
        "    # Print statisitcs\n",
        "    print(\"test accuracy: {:.3f}\".format(Performance_test['accuracy']))\n",
        "    print(\"Recall of the model is {:.3f}\".format(Performance_test['recall']))\n",
        "    print(\"Precision of the model is {:.3f}\".format(Performance_test['precision']))\n",
        "    print(\"F1 Score of the model is {:.3f}\".format(Performance_test['f1']))\n",
        "    print()\n",
        "    \"\"\"save testing\n",
        "    \"\"\"\n",
        "    timeToSave = getDateTimeString()\n",
        "    checkpoint_dir = '/content/drive/MyDrive/DL/project_ariel_yael/pneumonia/checkpoints_pneumonia_ACC_COND'\n",
        "    checkpoint_test_path = checkpoint_dir + '/' + logParametersForTrain + timeToSave + '__test_performance.pth'\n",
        "    print('==> Saving test results ...')\n",
        "    print(\"checkpoint_dir:\", checkpoint_dir)\n",
        "    print(\"checkpoint_test_path:\", checkpoint_test_path)\n",
        "\n",
        "    torch.save(Performance_test, checkpoint_test_path)\n",
        "\n",
        "    print()\n",
        "    print(\"##################################################################################\")"
      ],
      "execution_count": 74,
      "outputs": [
        {
          "output_type": "stream",
          "text": [
            "initialize_model parameters:\n",
            "model_name: efficientnet-b0 use_pretrained: True feature_extract: True chooseLong: 3\n",
            "Loaded pretrained weights for efficientnet-b0\n",
            "\n",
            "Params to learn:\n",
            "\t _fc.0.weight\n",
            "\t _fc.0.bias\n",
            "\t _fc.3.weight\n",
            "\t _fc.3.bias\n",
            "\t _fc.5.weight\n",
            "\t _fc.5.bias\n",
            "\t _fc.7.weight\n",
            "\t _fc.7.bias\n",
            "\t _fc.9.weight\n",
            "\t _fc.9.bias\n",
            "idx:1 model:efficientnet-b0 versionLong:3 lr:0.001\n",
            "\n",
            "Epoch 0/49 |Train Loss: 0.2881 | Train Acc: 0.8917 |Val Loss: 1.9054 | Val Acc: 0.7593 | recall: 1.000 | precision: 0.759 | f1: 0.863 |Epoch Time: 80.26704692840576\n",
            "Epoch 1/49 |Train Loss: 0.1835 | Train Acc: 0.9264 |Val Loss: 0.9080 | Val Acc: 0.8111 | recall: 0.994 | precision: 0.804 | f1: 0.889 |Epoch Time: 80.0274806022644\n",
            "Epoch 2/49 |Train Loss: 0.1812 | Train Acc: 0.9248 |Val Loss: 0.5587 | Val Acc: 0.8639 | recall: 0.996 | precision: 0.850 | f1: 0.917 |Epoch Time: 80.03657937049866\n",
            "Epoch 3/49 |Train Loss: 0.1473 | Train Acc: 0.9442 |Val Loss: 0.6420 | Val Acc: 0.8677 | recall: 0.992 | precision: 0.856 | f1: 0.919 |Epoch Time: 79.72201323509216\n",
            "Epoch 4/49 |Train Loss: 0.1651 | Train Acc: 0.9305 |Val Loss: 0.4236 | Val Acc: 0.9032 | recall: 0.990 | precision: 0.894 | f1: 0.939 |Epoch Time: 80.27352643013\n",
            "Epoch 5/49 |Train Loss: 0.1521 | Train Acc: 0.9348 |Val Loss: 0.2107 | Val Acc: 0.9406 | recall: 0.965 | precision: 0.957 | f1: 0.961 |Epoch Time: 79.89791893959045\n",
            "Epoch 6/49 |Train Loss: 0.1621 | Train Acc: 0.9348 |Val Loss: 0.1509 | Val Acc: 0.9434 | recall: 0.944 | precision: 0.980 | f1: 0.962 |Epoch Time: 79.61487817764282\n",
            "Epoch 7/49 |Train Loss: 0.1418 | Train Acc: 0.9434 |Val Loss: 0.1372 | Val Acc: 0.9434 | recall: 0.934 | precision: 0.991 | f1: 0.962 |Epoch Time: 79.80638861656189\n",
            "Epoch 8/49 |Train Loss: 0.1536 | Train Acc: 0.9432 |Val Loss: 0.2011 | Val Acc: 0.8849 | recall: 0.850 | precision: 0.999 | f1: 0.918 |Epoch Time: 79.66432452201843\n",
            "Epoch 9/49 |Train Loss: 0.1340 | Train Acc: 0.9458 |Val Loss: 0.1273 | Val Acc: 0.9501 | recall: 0.955 | precision: 0.979 | f1: 0.967 |Epoch Time: 80.03143835067749\n",
            "Epoch 10/49 |Train Loss: 0.1407 | Train Acc: 0.9449 |Val Loss: 0.1195 | Val Acc: 0.9645 | recall: 0.968 | precision: 0.985 | f1: 0.976 |Epoch Time: 79.58945870399475\n",
            "Epoch 11/49 |Train Loss: 0.1545 | Train Acc: 0.9427 |Val Loss: 0.1508 | Val Acc: 0.9588 | recall: 0.968 | precision: 0.977 | f1: 0.973 |Epoch Time: 79.61713695526123\n",
            "Epoch 12/49 |Train Loss: 0.1219 | Train Acc: 0.9514 |Val Loss: 0.1271 | Val Acc: 0.9559 | recall: 0.956 | precision: 0.986 | f1: 0.971 |Epoch Time: 79.77845048904419\n",
            "Epoch 13/49 |Train Loss: 0.1261 | Train Acc: 0.9444 |Val Loss: 0.1397 | Val Acc: 0.9616 | recall: 0.970 | precision: 0.980 | f1: 0.975 |Epoch Time: 79.6072895526886\n",
            "Epoch 14/49 |Train Loss: 0.1262 | Train Acc: 0.9485 |Val Loss: 0.1101 | Val Acc: 0.9463 | recall: 0.932 | precision: 0.997 | f1: 0.963 |Epoch Time: 79.81974148750305\n",
            "Epoch 15/49 |Train Loss: 0.1376 | Train Acc: 0.9439 |Val Loss: 0.1085 | Val Acc: 0.9453 | recall: 0.934 | precision: 0.993 | f1: 0.963 |Epoch Time: 80.0027163028717\n",
            "Epoch    16: reducing learning rate of group 0 to 7.0000e-04.\n",
            "Epoch 16/49 |Train Loss: 0.1184 | Train Acc: 0.9490 |Val Loss: 0.1105 | Val Acc: 0.9540 | recall: 0.948 | precision: 0.991 | f1: 0.969 |Epoch Time: 79.3625226020813\n",
            "Epoch 17/49 |Train Loss: 0.1168 | Train Acc: 0.9552 |Val Loss: 0.1237 | Val Acc: 0.9386 | recall: 0.927 | precision: 0.992 | f1: 0.958 |Epoch Time: 79.69694566726685\n",
            "Epoch 18/49 |Train Loss: 0.1191 | Train Acc: 0.9454 |Val Loss: 0.1131 | Val Acc: 0.9636 | recall: 0.966 | precision: 0.986 | f1: 0.976 |Epoch Time: 79.95514869689941\n",
            "Epoch 19/49 |Train Loss: 0.1088 | Train Acc: 0.9566 |Val Loss: 0.1031 | Val Acc: 0.9559 | recall: 0.949 | precision: 0.992 | f1: 0.970 |Epoch Time: 79.93756008148193\n",
            "Epoch 20/49 |Train Loss: 0.1228 | Train Acc: 0.9530 |Val Loss: 0.0909 | Val Acc: 0.9597 | recall: 0.953 | precision: 0.993 | f1: 0.973 |Epoch Time: 79.68829464912415\n",
            "Epoch    21: reducing learning rate of group 0 to 4.9000e-04.\n",
            "Epoch 21/49 |Train Loss: 0.1088 | Train Acc: 0.9545 |Val Loss: 0.1120 | Val Acc: 0.9616 | recall: 0.967 | precision: 0.982 | f1: 0.975 |Epoch Time: 80.3440682888031\n",
            "Epoch 22/49 |Train Loss: 0.1114 | Train Acc: 0.9564 |Val Loss: 0.1179 | Val Acc: 0.9492 | recall: 0.944 | precision: 0.988 | f1: 0.966 |Epoch Time: 80.02837944030762\n",
            "Epoch 23/49 |Train Loss: 0.1105 | Train Acc: 0.9545 |Val Loss: 0.1159 | Val Acc: 0.9521 | recall: 0.947 | precision: 0.989 | f1: 0.968 |Epoch Time: 79.6891405582428\n",
            "Epoch 24/49 |Train Loss: 0.1055 | Train Acc: 0.9583 |Val Loss: 0.1245 | Val Acc: 0.9530 | recall: 0.955 | precision: 0.983 | f1: 0.969 |Epoch Time: 80.24181318283081\n",
            "Epoch 25/49 |Train Loss: 0.1081 | Train Acc: 0.9564 |Val Loss: 0.1040 | Val Acc: 0.9559 | recall: 0.953 | precision: 0.988 | f1: 0.970 |Epoch Time: 80.05451679229736\n",
            "Epoch    26: reducing learning rate of group 0 to 3.4300e-04.\n",
            "Epoch 26/49 |Train Loss: 0.1061 | Train Acc: 0.9578 |Val Loss: 0.1175 | Val Acc: 0.9453 | recall: 0.938 | precision: 0.989 | f1: 0.963 |Epoch Time: 80.51738691329956\n",
            "Epoch 27/49 |Train Loss: 0.1071 | Train Acc: 0.9581 |Val Loss: 0.1079 | Val Acc: 0.9482 | recall: 0.941 | precision: 0.991 | f1: 0.965 |Epoch Time: 80.06119108200073\n",
            "Epoch 28/49 |Train Loss: 0.1040 | Train Acc: 0.9569 |Val Loss: 0.1156 | Val Acc: 0.9530 | recall: 0.947 | precision: 0.991 | f1: 0.968 |Epoch Time: 79.59748482704163\n",
            "Epoch 29/49 |Train Loss: 0.0991 | Train Acc: 0.9636 |Val Loss: 0.1018 | Val Acc: 0.9607 | recall: 0.962 | precision: 0.986 | f1: 0.974 |Epoch Time: 80.58084082603455\n",
            "Epoch 30/49 |Train Loss: 0.1002 | Train Acc: 0.9583 |Val Loss: 0.1046 | Val Acc: 0.9540 | recall: 0.949 | precision: 0.989 | f1: 0.969 |Epoch Time: 81.77314591407776\n",
            "Epoch    31: reducing learning rate of group 0 to 2.4010e-04.\n",
            "Epoch 31/49 |Train Loss: 0.1023 | Train Acc: 0.9571 |Val Loss: 0.1081 | Val Acc: 0.9655 | recall: 0.967 | precision: 0.987 | f1: 0.977 |Epoch Time: 80.07655715942383\n",
            "Epoch 32/49 |Train Loss: 0.1009 | Train Acc: 0.9619 |Val Loss: 0.1073 | Val Acc: 0.9597 | recall: 0.956 | precision: 0.991 | f1: 0.973 |Epoch Time: 80.4793221950531\n",
            "Epoch 33/49 |Train Loss: 0.0907 | Train Acc: 0.9631 |Val Loss: 0.1083 | Val Acc: 0.9559 | recall: 0.953 | precision: 0.988 | f1: 0.970 |Epoch Time: 80.13754916191101\n",
            "Epoch 34/49 |Train Loss: 0.0891 | Train Acc: 0.9636 |Val Loss: 0.1008 | Val Acc: 0.9559 | recall: 0.946 | precision: 0.996 | f1: 0.970 |Epoch Time: 79.94681239128113\n",
            "Epoch 35/49 |Train Loss: 0.0936 | Train Acc: 0.9614 |Val Loss: 0.1179 | Val Acc: 0.9521 | recall: 0.948 | precision: 0.988 | f1: 0.968 |Epoch Time: 80.92080187797546\n",
            "Epoch 36/49 |Train Loss: 0.1009 | Train Acc: 0.9573 |Val Loss: 0.1064 | Val Acc: 0.9607 | recall: 0.957 | precision: 0.991 | f1: 0.974 |Epoch Time: 80.77746963500977\n",
            "Epoch    37: reducing learning rate of group 0 to 1.6807e-04.\n",
            "Epoch 37/49 |Train Loss: 0.0990 | Train Acc: 0.9612 |Val Loss: 0.1092 | Val Acc: 0.9549 | recall: 0.952 | precision: 0.988 | f1: 0.970 |Epoch Time: 80.85140013694763\n",
            "Epoch 38/49 |Train Loss: 0.0973 | Train Acc: 0.9626 |Val Loss: 0.1041 | Val Acc: 0.9559 | recall: 0.956 | precision: 0.986 | f1: 0.971 |Epoch Time: 81.01537990570068\n",
            "Epoch 39/49 |Train Loss: 0.1040 | Train Acc: 0.9609 |Val Loss: 0.0990 | Val Acc: 0.9578 | recall: 0.956 | precision: 0.988 | f1: 0.972 |Epoch Time: 80.74994921684265\n",
            "Epoch 40/49 |Train Loss: 0.0901 | Train Acc: 0.9645 |Val Loss: 0.1165 | Val Acc: 0.9578 | recall: 0.957 | precision: 0.987 | f1: 0.972 |Epoch Time: 81.62206363677979\n",
            "Epoch 41/49 |Train Loss: 0.0948 | Train Acc: 0.9629 |Val Loss: 0.0937 | Val Acc: 0.9626 | recall: 0.961 | precision: 0.990 | f1: 0.975 |Epoch Time: 82.65065503120422\n",
            "Epoch    42: reducing learning rate of group 0 to 1.1765e-04.\n",
            "Epoch 42/49 |Train Loss: 0.0960 | Train Acc: 0.9621 |Val Loss: 0.0974 | Val Acc: 0.9626 | recall: 0.958 | precision: 0.992 | f1: 0.975 |Epoch Time: 81.08466482162476\n",
            "Epoch 43/49 |Train Loss: 0.0975 | Train Acc: 0.9621 |Val Loss: 0.1024 | Val Acc: 0.9626 | recall: 0.958 | precision: 0.992 | f1: 0.975 |Epoch Time: 80.31846308708191\n",
            "Epoch 44/49 |Train Loss: 0.0913 | Train Acc: 0.9597 |Val Loss: 0.1068 | Val Acc: 0.9664 | recall: 0.970 | precision: 0.986 | f1: 0.978 |Epoch Time: 81.33057713508606\n",
            "Epoch 45/49 |Train Loss: 0.0818 | Train Acc: 0.9662 |Val Loss: 0.1122 | Val Acc: 0.9664 | recall: 0.967 | precision: 0.988 | f1: 0.978 |Epoch Time: 81.51247239112854\n",
            "Epoch 46/49 |Train Loss: 0.0877 | Train Acc: 0.9621 |Val Loss: 0.1067 | Val Acc: 0.9626 | recall: 0.960 | precision: 0.991 | f1: 0.975 |Epoch Time: 81.2846930027008\n",
            "Epoch 47/49 |Train Loss: 0.0959 | Train Acc: 0.9595 |Val Loss: 0.1208 | Val Acc: 0.9549 | recall: 0.952 | precision: 0.988 | f1: 0.970 |Epoch Time: 80.71184396743774\n",
            "Epoch 48/49 |Train Loss: 0.0887 | Train Acc: 0.9629 |Val Loss: 0.1015 | Val Acc: 0.9616 | recall: 0.957 | precision: 0.992 | f1: 0.974 |Epoch Time: 80.68131566047668\n",
            "Epoch 49/49 |Train Loss: 0.0845 | Train Acc: 0.9672 |Val Loss: 0.0984 | Val Acc: 0.9626 | recall: 0.960 | precision: 0.991 | f1: 0.975 |Epoch Time: 81.12187266349792\n",
            "Epoch    50: reducing learning rate of group 0 to 8.2354e-05.\n",
            "Training complete in 66m 57s\n",
            "Best val acc: 0.966443 where val loss: 0.106766 at epoch: 44 \n",
            "\n",
            "==> Saving model ...\n",
            "checkpoint_dir: /content/drive/MyDrive/DL/project_ariel_yael/pneumonia/checkpoints_pneumonia_ACC_COND\n",
            "checkpoint_model_path: /content/drive/MyDrive/DL/project_ariel_yael/pneumonia/checkpoints_pneumonia_ACC_COND/idx:1 model:efficientnet-b0 versionLong:3 lr:0.001time:2021-07-05_16:51__ckpt.pth\n",
            "checkpoint_hist_path: /content/drive/MyDrive/DL/project_ariel_yael/pneumonia/checkpoints_pneumonia_ACC_COND/idx:1 model:efficientnet-b0 versionLong:3 lr:0.001time:2021-07-05_16:51__hist.pth\n",
            "\n",
            "idx:1 model:efficientnet-b0 versionLong:3 lr:0.001\n",
            "\n",
            "initialize_model parameters:\n",
            "model_name: efficientnet-b0 use_pretrained: True feature_extract: True chooseLong: 3\n",
            "Loaded pretrained weights for efficientnet-b0\n",
            "\n",
            "\n"
          ],
          "name": "stdout"
        },
        {
          "output_type": "display_data",
          "data": {
            "image/png": "[encoded data removed]",
            "text/plain": [
              "<Figure size 1800x360 with 2 Axes>"
            ]
          },
          "metadata": {
            "tags": [],
            "needs_background": "light"
          }
        },
        {
          "output_type": "display_data",
          "data": {
            "text/plain": [
              "<Figure size 432x288 with 0 Axes>"
            ]
          },
          "metadata": {
            "tags": []
          }
        },
        {
          "output_type": "display_data",
          "data": {
            "image/png": "[encoded data removed]",
            "text/plain": [
              "<Figure size 864x576 with 1 Axes>"
            ]
          },
          "metadata": {
            "tags": [],
            "needs_background": "light"
          }
        },
        {
          "output_type": "stream",
          "text": [
            "\n",
            "test accuracy: 0.853\n",
            "Recall of the model is 0.982\n",
            "Precision of the model is 0.818\n",
            "F1 Score of the model is 0.893\n",
            "\n",
            "==> Saving test results ...\n",
            "checkpoint_dir: /content/drive/MyDrive/DL/project_ariel_yael/pneumonia/checkpoints_pneumonia_ACC_COND\n",
            "checkpoint_test_path: /content/drive/MyDrive/DL/project_ariel_yael/pneumonia/checkpoints_pneumonia_ACC_COND/idx:1 model:efficientnet-b0 versionLong:3 lr:0.001time:2021-07-05_16:52__test_performance.pth\n",
            "\n",
            "##################################################################################\n"
          ],
          "name": "stdout"
        }
      ]
    }
  ]
}